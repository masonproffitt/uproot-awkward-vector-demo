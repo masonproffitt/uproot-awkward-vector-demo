{
 "cells": [
  {
   "cell_type": "markdown",
   "id": "debc515d",
   "metadata": {},
   "source": [
    "# Introduction"
   ]
  },
  {
   "cell_type": "markdown",
   "id": "91b9b8ec",
   "metadata": {},
   "source": [
    "This notebook is a quick starter guide on Uproot, Awkward Array, and Vector, which are all Python packages that are part of the Scikit-HEP project. We'll briefly go through parts of each and see how they work together.\n",
    "\n",
    "Most of this notebook is adapted from my [Uproot tutorial](https://hsf-training.github.io/hsf-training-uproot-webpage/index.html) aimed at beginners in data analysis in Python. Here, I'm assuming that the reader is already familiar with at least Python, NumPy, and Matplotlib, so I've compressed the tutorial and added a bit of more advanced material, but it still just scratches the surface of these packages. See the links at the end for more extensive resources."
   ]
  },
  {
   "cell_type": "markdown",
   "id": "19c76d3c",
   "metadata": {},
   "source": [
    "## Motivation"
   ]
  },
  {
   "cell_type": "markdown",
   "id": "0eeaa124",
   "metadata": {},
   "source": [
    "### Python"
   ]
  },
  {
   "cell_type": "markdown",
   "id": "b8e88775",
   "metadata": {},
   "source": [
    "For quite a while now, ROOT has been the main software used by particle physicists for data analysis. ROOT is written in C++, and at least until recently most analysis code has also been written in C++. Outside of HEP, Python is a more commonly used language for data analysis, which means that there are many popular and well-supported tools that can be utilized for common tasks. Python is also generally considered easier to learn than C++."
   ]
  },
  {
   "cell_type": "markdown",
   "id": "14008055",
   "metadata": {},
   "source": [
    "### Uproot"
   ]
  },
  {
   "cell_type": "markdown",
   "id": "731cbdc4",
   "metadata": {},
   "source": [
    "Uproot is a Python module that can read and write files in the ROOT format. It’s part of the Scikit-HEP project, a collection of Python tools for HEP data analysis. Uproot isn’t the only way to read/write ROOT files in Python; there are other packages that allow you to do this. However, there are some significant advantages of Uproot. We’ll go through a few here.\n",
    "\n",
    "The only software required by Uproot (other than Python itself, of course) is NumPy. NumPy is by far the most popular Python package for handling arrays of data. It’s included in the Anaconda distribution by default, and in general most people using Python for any kind of data analysis will probably already have it installed. Awkward Array and Vector are not required but highly recommended for use with Uproot. Uproot, Awkward Array, and Vector are all part of the Scikit-HEP project. All of the above are Python modules, which can be installed with nothing more than pip or conda.\n",
    "\n",
    "Most importantly, Uproot does not require any part of the ROOT software, which is quite large and can be non-trivial to install properly.\n",
    "\n",
    "Uproot was designed for efficient reading of files. It uses compiled functions with vector optimizations to perform very fast calculations on arrays.\n",
    "\n",
    "When you import a Python package that uses ROOT, there can be a delay of several seconds while all of the required libraries are loaded. This is required every time you restart the Python interpreter or run a script. By virtue of not using ROOT itself, Uproot doesn’t have this issue."
   ]
  },
  {
   "cell_type": "markdown",
   "id": "28ccf827",
   "metadata": {},
   "source": [
    "### Awkward"
   ]
  },
  {
   "cell_type": "markdown",
   "id": "54d267e2",
   "metadata": {},
   "source": [
    "One issue with manipulating HEP data in Python is that it is often not rectangular. That is, the length of object collections is not constant. For example, different events will have different numbers of jets, and different jets will have different numbers of associated tracks. Such arrays are called jagged arrays. Packages like NumPy are only designed to work with rectangular arrays, where each dimension has a fixed length throughout the entire array.\n",
    "\n",
    "> Jagged vs. rectangular arrays\n",
    ">\n",
    "> The name “jagged array” comes from the idea that if you have a 2D array in which there’s a different number of entries in each row and you line rows up by their first element, then the right edge of the array will be “jagged” as opposed to straight:\n",
    ">\n",
    "> Rectangular array:\n",
    ">\n",
    "> ```\n",
    "> [[0, 1],\n",
    ">  [2, 3],\n",
    ">  [4, 5],\n",
    ">  [6, 7],\n",
    ">  [8, 9]]\n",
    "> ```\n",
    ">\n",
    "> Jagged array:\n",
    ">\n",
    "> ```\n",
    "> [[0, 1],\n",
    ">  [2, 3, 4],\n",
    ">  [5],\n",
    ">  [6, 7],\n",
    ">  [8, 9]]\n",
    "> ```\n",
    "\n",
    "Awkward Array is a package used to deal with jagged arrays so that they can be manipulated in ways almost identical to standard rectangular NumPy arrays. Other Python packages for reading ROOT files usually do not support jagged arrays, which means that you cannot do operations on multiple events at once if you have jagged data. But Uproot and Awkward Array can, and this is generally much faster than operating on one event at a time."
   ]
  },
  {
   "cell_type": "markdown",
   "id": "2b36d851",
   "metadata": {},
   "source": [
    "### Vector"
   ]
  },
  {
   "cell_type": "markdown",
   "id": "137f705c",
   "metadata": {},
   "source": [
    "Vector is a package that provides an interface for 2D, 3D, and (3+1)D vectors and can be used with NumPy and Awkward Array to perform operations on arrays of vectors. This includes calculations for quantities like invariant mass or $\\Delta R$."
   ]
  },
  {
   "cell_type": "markdown",
   "id": "e8bf6e64",
   "metadata": {},
   "source": [
    "## Goal"
   ]
  },
  {
   "cell_type": "markdown",
   "id": "fefaa0b5",
   "metadata": {},
   "source": [
    "In order to learn how to use these packages, we’ll try to do a very short and simple analysis to look for resonances in a dimuon events. The example ROOT file is from CMS open data from proton-proton collisions in 2012. Our first goal is just to get to the data within Uproot, so we need to open the file and navigate to the muon information."
   ]
  },
  {
   "cell_type": "markdown",
   "id": "24434f6c",
   "metadata": {},
   "source": [
    "## Setup"
   ]
  },
  {
   "cell_type": "markdown",
   "id": "33aa7eee",
   "metadata": {},
   "source": [
    "### Installation"
   ]
  },
  {
   "cell_type": "markdown",
   "id": "dfe1caf6",
   "metadata": {},
   "source": [
    "These packages can be installed in the usual way if they haven't been already:\n",
    "\n",
    "`pip install uproot awkward vector`\n",
    "\n",
    "They are also available via `conda install` on the `conda-forge` channel."
   ]
  },
  {
   "cell_type": "markdown",
   "id": "87162848",
   "metadata": {},
   "source": [
    "### Usage"
   ]
  },
  {
   "cell_type": "markdown",
   "id": "cd580cd3",
   "metadata": {},
   "source": [
    "We'll need NumPy and Matplotlib:"
   ]
  },
  {
   "cell_type": "code",
   "execution_count": 1,
   "id": "52425606",
   "metadata": {},
   "outputs": [],
   "source": [
    "import numpy as np\n",
    "import matplotlib.pyplot as plt"
   ]
  },
  {
   "cell_type": "markdown",
   "id": "7fe2e63d",
   "metadata": {},
   "source": [
    "Uproot and Vector are normally imported by their name, and Awkward Array is usually imported as `ak` as an analogy to `numpy as np`:"
   ]
  },
  {
   "cell_type": "code",
   "execution_count": 2,
   "id": "e2e2818d",
   "metadata": {},
   "outputs": [],
   "source": [
    "import uproot\n",
    "import awkward as ak\n",
    "import vector"
   ]
  },
  {
   "cell_type": "markdown",
   "id": "94860fb1",
   "metadata": {},
   "source": [
    "# Inspecting data"
   ]
  },
  {
   "cell_type": "markdown",
   "id": "0ea51782",
   "metadata": {},
   "source": [
    "## Files"
   ]
  },
  {
   "cell_type": "markdown",
   "id": "95f012fc",
   "metadata": {},
   "source": [
    "### Opening a file"
   ]
  },
  {
   "cell_type": "markdown",
   "id": "fcbb46f6",
   "metadata": {},
   "source": [
    "Now open the ROOT file and assign it to a variable (which I’ve named file here):"
   ]
  },
  {
   "cell_type": "code",
   "execution_count": 3,
   "id": "fcb58e66",
   "metadata": {},
   "outputs": [],
   "source": [
    "file = uproot.open('open-data-example.root')"
   ]
  },
  {
   "cell_type": "markdown",
   "id": "fa7373b1",
   "metadata": {},
   "source": [
    "If you inspect file, you can see that it’s a `ReadOnlyDirectory` object:"
   ]
  },
  {
   "cell_type": "code",
   "execution_count": 4,
   "id": "fcb69547",
   "metadata": {},
   "outputs": [
    {
     "data": {
      "text/plain": [
       "<ReadOnlyDirectory '/' at 0x7f54a69c22b0>"
      ]
     },
     "execution_count": 4,
     "metadata": {},
     "output_type": "execute_result"
    }
   ],
   "source": [
    "file"
   ]
  },
  {
   "cell_type": "markdown",
   "id": "f97bba45",
   "metadata": {},
   "source": [
    "### File contents"
   ]
  },
  {
   "cell_type": "markdown",
   "id": "8c54adf2",
   "metadata": {},
   "source": [
    "Just like any other kind of directory, you can list the contents (of the file). The name of each item in the file is called a key."
   ]
  },
  {
   "cell_type": "code",
   "execution_count": 11,
   "id": "fe86fec5",
   "metadata": {},
   "outputs": [
    {
     "data": {
      "text/plain": [
       "['Events;1']"
      ]
     },
     "execution_count": 11,
     "metadata": {},
     "output_type": "execute_result"
    }
   ],
   "source": [
    "file.keys()"
   ]
  },
  {
   "cell_type": "markdown",
   "id": "6da613ae",
   "metadata": {},
   "source": [
    "We can see that there is one key: “Events”. This doesn’t tell us what kind of object it refers to, though. ROOT files can contain many different types of objects, including subdirectories. The following function provides a way to inspect the types of each item:"
   ]
  },
  {
   "cell_type": "code",
   "execution_count": 12,
   "id": "26510547",
   "metadata": {},
   "outputs": [
    {
     "data": {
      "text/plain": [
       "{'Events;1': 'TTree'}"
      ]
     },
     "execution_count": 12,
     "metadata": {},
     "output_type": "execute_result"
    }
   ],
   "source": [
    "file.classnames()"
   ]
  },
  {
   "cell_type": "markdown",
   "id": "6fce7f22",
   "metadata": {},
   "source": [
    "The output contains pairs of the form `name: type`. Therefore the key `Events` refers to a `TTree` object. This is where all the data in this file is stored. The `;1` refers to the cycle number."
   ]
  },
  {
   "cell_type": "markdown",
   "id": "538511e2",
   "metadata": {},
   "source": [
    "### Accessing contents"
   ]
  },
  {
   "cell_type": "markdown",
   "id": "527a1e32",
   "metadata": {},
   "source": [
    "Now we want to actually access the object inside the file. You can do this just as you would to get an item in an array:"
   ]
  },
  {
   "cell_type": "code",
   "execution_count": 13,
   "id": "e3a489b1",
   "metadata": {},
   "outputs": [
    {
     "data": {
      "text/plain": [
       "<TTree 'Events' (6 branches) at 0x7f568fb15df0>"
      ]
     },
     "execution_count": 13,
     "metadata": {},
     "output_type": "execute_result"
    }
   ],
   "source": [
    "file['Events']"
   ]
  },
  {
   "cell_type": "markdown",
   "id": "01fc1205",
   "metadata": {},
   "source": [
    "This expression refers to the actual TTree object, which we will look at next."
   ]
  },
  {
   "cell_type": "markdown",
   "id": "89822566",
   "metadata": {},
   "source": [
    "## Trees"
   ]
  },
  {
   "cell_type": "markdown",
   "id": "700d133e",
   "metadata": {},
   "source": [
    "Trees in ROOT are basically just tables of information. Trees are composed of branches, which are the columns of the table. The rows usually represent events (individual bunch crossings).\n",
    "\n",
    "First we assign the tree to a variable (named `tree` here):"
   ]
  },
  {
   "cell_type": "code",
   "execution_count": 6,
   "id": "5ede6d08",
   "metadata": {},
   "outputs": [],
   "source": [
    "tree = file['Events']"
   ]
  },
  {
   "cell_type": "markdown",
   "id": "31bcc1dc",
   "metadata": {},
   "source": [
    "In order to find out what information is in the tree, we need to know what the branches (columns) are. The term key is used (again) here to refer to the names of the branches."
   ]
  },
  {
   "cell_type": "code",
   "execution_count": 7,
   "id": "9b9cddb6",
   "metadata": {},
   "outputs": [
    {
     "data": {
      "text/plain": [
       "['nMuon', 'Muon_pt', 'Muon_eta', 'Muon_phi', 'Muon_mass', 'Muon_charge']"
      ]
     },
     "execution_count": 7,
     "metadata": {},
     "output_type": "execute_result"
    }
   ],
   "source": [
    "tree.keys()"
   ]
  },
  {
   "cell_type": "markdown",
   "id": "c8b9e753",
   "metadata": {},
   "source": [
    "The above output is a list of the branch names. So we can see that for each event, we will have the number of muons in the event (nMuon) and the pT, eta, phi, mass, and charge of each muon."
   ]
  },
  {
   "cell_type": "code",
   "execution_count": 8,
   "id": "1f411768",
   "metadata": {},
   "outputs": [
    {
     "name": "stdout",
     "output_type": "stream",
     "text": [
      "name                 | typename                 | interpretation                \n",
      "---------------------+--------------------------+-------------------------------\n",
      "nMuon                | uint32_t                 | AsDtype('>u4')\n",
      "Muon_pt              | float[]                  | AsJagged(AsDtype('>f4'))\n",
      "Muon_eta             | float[]                  | AsJagged(AsDtype('>f4'))\n",
      "Muon_phi             | float[]                  | AsJagged(AsDtype('>f4'))\n",
      "Muon_mass            | float[]                  | AsJagged(AsDtype('>f4'))\n",
      "Muon_charge          | int32_t[]                | AsJagged(AsDtype('>i4'))\n"
     ]
    }
   ],
   "source": [
    "tree.show()"
   ]
  },
  {
   "cell_type": "markdown",
   "id": "897a65fc",
   "metadata": {},
   "source": [
    "But how do we get the actual data from the table? There are several ways with Uproot, but the simplest is with the arrays() function:"
   ]
  },
  {
   "cell_type": "code",
   "execution_count": 9,
   "id": "05a1ca29",
   "metadata": {},
   "outputs": [
    {
     "data": {
      "text/plain": [
       "<Array [{nMuon: 2, Muon_pt: [10.8, ... -1, 1]}] type='100000 * {\"nMuon\": uint32,...'>"
      ]
     },
     "execution_count": 9,
     "metadata": {},
     "output_type": "execute_result"
    }
   ],
   "source": [
    "tree.arrays()"
   ]
  },
  {
   "cell_type": "markdown",
   "id": "b9fa92c8",
   "metadata": {},
   "source": [
    "You can see some numbers in there, which indeed are from the data in the tree."
   ]
  },
  {
   "cell_type": "markdown",
   "id": "559f7882",
   "metadata": {},
   "source": [
    "## Branches"
   ]
  },
  {
   "cell_type": "markdown",
   "id": "cdfadc91",
   "metadata": {},
   "source": [
    "Now we assign this object (which contains both the names and contents of the branches) to another variable (branches):"
   ]
  },
  {
   "cell_type": "code",
   "execution_count": 10,
   "id": "0028fadf",
   "metadata": {},
   "outputs": [],
   "source": [
    "branches = tree.arrays()"
   ]
  },
  {
   "cell_type": "markdown",
   "id": "1d480a65",
   "metadata": {},
   "source": [
    "Next let’s just look at each branch individually. You can access a single branch from branches in a similar way to getting an item from a ROOT file object (array-like notation):"
   ]
  },
  {
   "cell_type": "code",
   "execution_count": 11,
   "id": "1907fe24",
   "metadata": {},
   "outputs": [
    {
     "data": {
      "text/plain": [
       "<Array [2, 2, 1, 4, 4, 3, ... 0, 3, 2, 3, 2, 3] type='100000 * uint32'>"
      ]
     },
     "execution_count": 11,
     "metadata": {},
     "output_type": "execute_result"
    }
   ],
   "source": [
    "branches['nMuon']"
   ]
  },
  {
   "cell_type": "markdown",
   "id": "6008f897",
   "metadata": {},
   "source": [
    "You can see the partial list of numbers in the output that represents the number of muons in each event. It’s abbreviated with an ellipsis (...) so that it doesn’t take up the whole page.\n",
    "\n",
    "These Array objects are a special type provided by the Awkward Array package. The type=100000 * uint32 means that there are 100,000 entries and that each entry is a 32-bit unsigned integer. Each entry corresponds to one event.\n",
    "\n",
    "Let’s look at another branch:"
   ]
  },
  {
   "cell_type": "code",
   "execution_count": 12,
   "id": "549d0f02",
   "metadata": {},
   "outputs": [
    {
     "data": {
      "text/plain": [
       "<Array [[10.8, 15.7], ... 11.4, 3.08, 4.97]] type='100000 * var * float32'>"
      ]
     },
     "execution_count": 12,
     "metadata": {},
     "output_type": "execute_result"
    }
   ],
   "source": [
    "branches['Muon_pt']"
   ]
  },
  {
   "cell_type": "markdown",
   "id": "3fefb491",
   "metadata": {},
   "source": [
    "This is a jagged array because the number of entries is different for different events (because each event can have a different number of muons). Note that there are square brackets [] surrounding the list of entries for each event. The type='100000 * var * float32' means that there are 100,000 rows, each containing a variable number of 32-bit floating point numbers. This is basically an array of arrays (or a 2D array).\n",
    "Events\n",
    "\n",
    "If we want to focus on a particular event, we can index it just like a normal array:"
   ]
  },
  {
   "cell_type": "code",
   "execution_count": 13,
   "id": "052e3811",
   "metadata": {},
   "outputs": [
    {
     "data": {
      "text/plain": [
       "<Array [10.8, 15.7] type='2 * float32'>"
      ]
     },
     "execution_count": 13,
     "metadata": {},
     "output_type": "execute_result"
    }
   ],
   "source": [
    "branches['Muon_pt'][0]"
   ]
  },
  {
   "cell_type": "markdown",
   "id": "b38ff1c5",
   "metadata": {},
   "source": [
    "From the above output, the first event has two muons, and the two numbers in the list are the muons’ pT. It’s not specified anywhere in the file, but the units are GeV. Let’s look at the third event:"
   ]
  },
  {
   "cell_type": "code",
   "execution_count": 14,
   "id": "e849e7e3",
   "metadata": {},
   "outputs": [
    {
     "data": {
      "text/plain": [
       "<Array [3.28] type='1 * float32'>"
      ]
     },
     "execution_count": 14,
     "metadata": {},
     "output_type": "execute_result"
    }
   ],
   "source": [
    "branches['Muon_pt'][2]"
   ]
  },
  {
   "cell_type": "markdown",
   "id": "5ece1223",
   "metadata": {},
   "source": [
    "It only has one muon."
   ]
  },
  {
   "cell_type": "markdown",
   "id": "7805f4ea",
   "metadata": {},
   "source": [
    "What if we want to get all of the information about a single event? So far we’ve accessed data in branches by providing a branch name, but we can also just use an event index:"
   ]
  },
  {
   "cell_type": "code",
   "execution_count": 17,
   "id": "086e836a",
   "metadata": {},
   "outputs": [
    {
     "data": {
      "text/plain": [
       "<Record ... 0.106], Muon_charge: [-1, -1]} type='{\"nMuon\": uint32, \"Muon_pt\": va...'>"
      ]
     },
     "execution_count": 17,
     "metadata": {},
     "output_type": "execute_result"
    }
   ],
   "source": [
    "branches[0]"
   ]
  },
  {
   "cell_type": "markdown",
   "id": "ad804f0c",
   "metadata": {},
   "source": [
    "This is a Record object, which is another special type provided by Awkward Array. It functions basically the same way as a standard Python dictionary (dict). Unfortunately, most of the interesting information is still hidden in the above output to save space. A little trick we can use to force printing all the data is adding .tolist():"
   ]
  },
  {
   "cell_type": "code",
   "execution_count": 18,
   "id": "b8284e95",
   "metadata": {},
   "outputs": [
    {
     "data": {
      "text/plain": [
       "{'nMuon': 2,\n",
       " 'Muon_pt': [10.763696670532227, 15.736522674560547],\n",
       " 'Muon_eta': [1.0668272972106934, -0.563786506652832],\n",
       " 'Muon_phi': [-0.03427272289991379, 2.5426154136657715],\n",
       " 'Muon_mass': [0.10565836727619171, 0.10565836727619171],\n",
       " 'Muon_charge': [-1, -1]}"
      ]
     },
     "execution_count": 18,
     "metadata": {},
     "output_type": "execute_result"
    }
   ],
   "source": [
    "branches[0].tolist()"
   ]
  },
  {
   "cell_type": "markdown",
   "id": "6f4204d0",
   "metadata": {},
   "source": [
    "There we go. Now we can see the whole picture for an individual event.\n",
    "\n",
    "`.tolist()` is a NumPy function that has been extended to Awkward Array objects. As the name suggests, it converts NumPy arrays to Python lists. In the case of trees, which have named branches, it actually converts to a dictionary of lists. It can be very useful when you want to understand exactly what’s in an Array or Record. Be careful when using it, though–trying to print out an entire branch or tree could cause Python to crash if it’s large enough. Therefore it’s best to only use `tolist()` on one or a few events at a time to be safe."
   ]
  },
  {
   "cell_type": "markdown",
   "id": "d27d50ec",
   "metadata": {},
   "source": [
    "If you only want to see a description of the structure of the array and types within it (not the data itself), you can use `.type`:"
   ]
  },
  {
   "cell_type": "code",
   "execution_count": 22,
   "id": "ea849b1c",
   "metadata": {},
   "outputs": [
    {
     "data": {
      "text/plain": [
       "100000 * {\"nMuon\": uint32, \"Muon_pt\": var * float32, \"Muon_eta\": var * float32, \"Muon_phi\": var * float32, \"Muon_mass\": var * float32, \"Muon_charge\": var * int32}"
      ]
     },
     "execution_count": 22,
     "metadata": {},
     "output_type": "execute_result"
    }
   ],
   "source": [
    "branches.type"
   ]
  },
  {
   "cell_type": "markdown",
   "id": "cb383392",
   "metadata": {},
   "source": [
    "# Transforming data"
   ]
  },
  {
   "cell_type": "markdown",
   "id": "d7f3ff5e",
   "metadata": {},
   "source": [
    "Uproot is designed for columnar analysis, which means performing operations on entire columns (branches) at a time, rather than operating on every event individually."
   ]
  },
  {
   "cell_type": "markdown",
   "id": "840bc538",
   "metadata": {},
   "source": [
    "## Counting"
   ]
  },
  {
   "cell_type": "markdown",
   "id": "b6ee32c8",
   "metadata": {},
   "source": [
    "The simplest task we need for analysis is counting (i.e., cutflow). To count the total number of events, we can use the Python built-in function `len()` on any of the following:\n",
    "\n",
    "```python\n",
    "len(branches)\n",
    "len(branches['nMuon'])\n",
    "len(branches['Muon_pt']) # or any of the other branches...\n",
    "```\n",
    "\n",
    "which will output `100000`. So there are 100,000 events."
   ]
  },
  {
   "cell_type": "markdown",
   "id": "80768bab",
   "metadata": {},
   "source": [
    "For counting the number of entries in each event for a branch, there's `ak.num`:"
   ]
  },
  {
   "cell_type": "code",
   "execution_count": 25,
   "id": "66d54be7",
   "metadata": {},
   "outputs": [
    {
     "data": {
      "text/plain": [
       "<Array [2, 2, 1, 4, 4, 3, ... 0, 3, 2, 3, 2, 3] type='100000 * int64'>"
      ]
     },
     "execution_count": 25,
     "metadata": {},
     "output_type": "execute_result"
    }
   ],
   "source": [
    "ak.num(branches['Muon_pt'])"
   ]
  },
  {
   "cell_type": "markdown",
   "id": "749c265e",
   "metadata": {},
   "source": [
    "which in this case is equal to already existing `branches['nMuon']`."
   ]
  },
  {
   "cell_type": "markdown",
   "id": "0bce1c96",
   "metadata": {},
   "source": [
    "## Selections"
   ]
  },
  {
   "cell_type": "markdown",
   "id": "e53fb1a1",
   "metadata": {},
   "source": [
    "### Selections from 1D arrays"
   ]
  },
  {
   "cell_type": "markdown",
   "id": "619d4823",
   "metadata": {},
   "source": [
    "To do more interesting counting or plotting, we want to be able to select only events or muons that pass some criteria. Just as you can compare two numbers, like `1 < 2` and get a `True` or `False` value, you can put arrays in comparisons as well. Let’s look at this case:"
   ]
  },
  {
   "cell_type": "code",
   "execution_count": 21,
   "id": "bf6f3672",
   "metadata": {},
   "outputs": [
    {
     "data": {
      "text/plain": [
       "<Array [False, False, True, ... False, False] type='100000 * bool'>"
      ]
     },
     "execution_count": 21,
     "metadata": {},
     "output_type": "execute_result"
    }
   ],
   "source": [
    "branches['nMuon'] == 1"
   ]
  },
  {
   "cell_type": "markdown",
   "id": "6f96b4a6",
   "metadata": {},
   "source": [
    "This is checking for equality between an array and the number 1. Of course these are different types (array vs. scalar), so the Python objects are certainly not identical, but you can see the return value is not just False. What happens is that each element in the array is compared to the scalar value, and the return value is a new array (of the same shape) filled with all these comparison results. So we can interpret the output as the result of testing whether each event has exactly one muon or not. The first two events do not, the third does, and so on.\n",
    "\n",
    "This array of Boolean values is called a mask because we can use it to pick out only the elements in the array that satisfy some criteria (like having exactly one muon). This is very useful, and we will save it to a variable to save typing later:"
   ]
  },
  {
   "cell_type": "code",
   "execution_count": 22,
   "id": "fe0fef79",
   "metadata": {},
   "outputs": [],
   "source": [
    "single_muon_mask = branches['nMuon'] == 1"
   ]
  },
  {
   "cell_type": "markdown",
   "id": "a6a5b129",
   "metadata": {},
   "source": [
    "### Counting with selections"
   ]
  },
  {
   "cell_type": "markdown",
   "id": "aa47d721",
   "metadata": {},
   "source": [
    "Now let’s say we want to know how many of these single-muon events there are. Note that len() won’t work because the length of the array is still 100,000. That is, there’s a value for every event (even if that value is `False`). We need the number of `True`s in the array. There are multiple ways to do this, but my favorite is:"
   ]
  },
  {
   "cell_type": "code",
   "execution_count": 23,
   "id": "840da643",
   "metadata": {},
   "outputs": [
    {
     "data": {
      "text/plain": [
       "13447"
      ]
     },
     "execution_count": 23,
     "metadata": {},
     "output_type": "execute_result"
    }
   ],
   "source": [
    "np.sum(single_muon_mask)"
   ]
  },
  {
   "cell_type": "markdown",
   "id": "c987e1c2",
   "metadata": {},
   "source": [
    "`sum()` adds all the array values together. `True` is interpreted as `1` and `False` is interpreted as `0`, thus `sum()` is just the number of True entries. So there are 13,447 events with exactly one muon."
   ]
  },
  {
   "cell_type": "markdown",
   "id": "ffe4d54a",
   "metadata": {},
   "source": [
    "Note that I've used a NumPy function here on an `ak.Array`. Most of the standard NumPy functions work fine on Awkward `Array`s, although there are also equivalent Awkward functions like `ak.sum`. Generally speaking, the default behavior between these NumPy and Awkward functions is the same, but the `ak` versions have optional parameters for funcationality that is specific to jagged arrays. Awkward also has functions that wouldn't make sense in NumPy, such as `ak.num`."
   ]
  },
  {
   "cell_type": "markdown",
   "id": "97759b98",
   "metadata": {},
   "source": [
    "### Applying a mask to an array"
   ]
  },
  {
   "cell_type": "markdown",
   "id": "7a07e463",
   "metadata": {},
   "source": [
    "If we want to apply some selection to an array (i.e., cut out events or muons that don’t pass), we just act like the selection mask is an index. For example, if we want the pT of only those muons in events with exactly one muon (so they’re the only muon in that event):"
   ]
  },
  {
   "cell_type": "code",
   "execution_count": 24,
   "id": "584b42d5",
   "metadata": {},
   "outputs": [
    {
     "data": {
      "text/plain": [
       "<Array [[3.28], [3.84], ... [13.3], [9.48]] type='13447 * var * float32'>"
      ]
     },
     "execution_count": 24,
     "metadata": {},
     "output_type": "execute_result"
    }
   ],
   "source": [
    "branches['Muon_pt'][single_muon_mask]"
   ]
  },
  {
   "cell_type": "markdown",
   "id": "34190120",
   "metadata": {},
   "source": [
    "We can check that we really are only looking at the events that pass the selection by looking the number of rows:"
   ]
  },
  {
   "cell_type": "code",
   "execution_count": 25,
   "id": "cee7c181",
   "metadata": {},
   "outputs": [
    {
     "data": {
      "text/plain": [
       "13447"
      ]
     },
     "execution_count": 25,
     "metadata": {},
     "output_type": "execute_result"
    }
   ],
   "source": [
    "len(branches['Muon_pt'][single_muon_mask])"
   ]
  },
  {
   "cell_type": "markdown",
   "id": "f4eed4fe",
   "metadata": {},
   "source": [
    "Yep, this matches the counting from single_muon_mask.sum() above.\n",
    "Plotting with selections\n",
    "\n",
    "We can also use masks to plot quantities after some selection. For example, let’s plot the muon pT for only the single-muon events:"
   ]
  },
  {
   "cell_type": "code",
   "execution_count": 26,
   "id": "1f17394c",
   "metadata": {},
   "outputs": [
    {
     "data": {
      "image/png": "[encoded data removed]",
      "text/plain": [
       "<Figure size 432x288 with 1 Axes>"
      ]
     },
     "metadata": {
      "needs_background": "light"
     },
     "output_type": "display_data"
    }
   ],
   "source": [
    "plt.hist(ak.flatten(branches['Muon_pt'][single_muon_mask]), bins=100, range=(0, 100))\n",
    "plt.xlabel('Muon $p_{\\mathrm{T}}$ [GeV]')\n",
    "plt.ylabel('Number of single muons / 1 GeV')\n",
    "plt.yscale('log')\n",
    "plt.show()"
   ]
  },
  {
   "cell_type": "markdown",
   "id": "3a66890d",
   "metadata": {},
   "source": [
    "If you’re looking carefully, you might notice that this plot is missing the hump around 45 GeV that was in the pT plot before (for all muons). We accidentally ran into a hint of an effect from real physics. Neat!\n",
    "Selections from a jagged array\n",
    "\n",
    "Let’s look at a comparison for a jagged array, using the absolute value of muon eta:"
   ]
  },
  {
   "cell_type": "code",
   "execution_count": 27,
   "id": "c3cbe334",
   "metadata": {},
   "outputs": [
    {
     "data": {
      "text/plain": [
       "<Array [[True, True], ... True, True, True]] type='100000 * var * bool'>"
      ]
     },
     "execution_count": 27,
     "metadata": {},
     "output_type": "execute_result"
    }
   ],
   "source": [
    "eta_mask = abs(branches['Muon_eta']) < 2\n",
    "eta_mask"
   ]
  },
  {
   "cell_type": "markdown",
   "id": "1f7e46d4",
   "metadata": {},
   "source": [
    "Again, the mask array has the same dimensions as the original array. There’s one Boolean value for each muon, corresponding to whether its eta is less than 2 in absolute value.\n",
    "Counting\n",
    "\n",
    "We can do counting and plotting just as before:"
   ]
  },
  {
   "cell_type": "code",
   "execution_count": 28,
   "id": "ffc55f68",
   "metadata": {},
   "outputs": [
    {
     "data": {
      "text/plain": [
       "204564"
      ]
     },
     "execution_count": 28,
     "metadata": {},
     "output_type": "execute_result"
    }
   ],
   "source": [
    "np.sum(eta_mask)"
   ]
  },
  {
   "cell_type": "markdown",
   "id": "29031041",
   "metadata": {},
   "source": [
    "This is the number of muons that pass the eta cut."
   ]
  },
  {
   "cell_type": "markdown",
   "id": "e69cefae",
   "metadata": {},
   "source": [
    "### Plotting"
   ]
  },
  {
   "cell_type": "markdown",
   "id": "500218e1",
   "metadata": {},
   "source": [
    "Let’s plot both the original eta distribution and the one after the cut to verify its effect:"
   ]
  },
  {
   "cell_type": "code",
   "execution_count": 29,
   "id": "028df023",
   "metadata": {},
   "outputs": [
    {
     "data": {
      "image/png": "[encoded data removed]",
      "text/plain": [
       "<Figure size 432x288 with 1 Axes>"
      ]
     },
     "metadata": {
      "needs_background": "light"
     },
     "output_type": "display_data"
    },
    {
     "data": {
      "image/png": "[encoded data removed]",
      "text/plain": [
       "<Figure size 432x288 with 1 Axes>"
      ]
     },
     "metadata": {
      "needs_background": "light"
     },
     "output_type": "display_data"
    }
   ],
   "source": [
    "plt.hist(ak.flatten(branches['Muon_eta']), bins=50, range=(-2.5, 2.5))\n",
    "plt.title('No selection')\n",
    "plt.xlabel('Muon $\\eta$')\n",
    "plt.ylabel('Number of muons')\n",
    "plt.show()\n",
    "\n",
    "plt.hist(ak.flatten(branches['Muon_eta'][eta_mask]), bins=50, range=(-2.5, 2.5))\n",
    "plt.title('With $|\\eta| < 2$ selection')\n",
    "plt.xlabel('Muon $\\eta$')\n",
    "plt.ylabel('Number of muons')\n",
    "plt.show()"
   ]
  },
  {
   "cell_type": "markdown",
   "id": "190f5e94",
   "metadata": {},
   "source": [
    "You can see the second plot just has both ends past 2 cut off, demonstrating that we’ve cut those muons out.\n",
    "Operations on selections\n",
    "\n",
    "We can invert selections with ~ (the NOT operator):"
   ]
  },
  {
   "cell_type": "code",
   "execution_count": 30,
   "id": "a0c86058",
   "metadata": {},
   "outputs": [
    {
     "data": {
      "text/plain": [
       "<Array [True, True, False, ... True, True] type='100000 * bool'>"
      ]
     },
     "execution_count": 30,
     "metadata": {},
     "output_type": "execute_result"
    }
   ],
   "source": [
    "~single_muon_mask"
   ]
  },
  {
   "cell_type": "markdown",
   "id": "ae55a483",
   "metadata": {},
   "source": [
    "This new mask is False only for events with exactly one muon and True otherwise.\n",
    "\n",
    "We can get the intersection of selections with & (the AND operator):"
   ]
  },
  {
   "cell_type": "code",
   "execution_count": 31,
   "id": "68cbcc05",
   "metadata": {},
   "outputs": [
    {
     "data": {
      "text/plain": [
       "<Array [[False, False], ... False, False]] type='100000 * var * bool'>"
      ]
     },
     "execution_count": 31,
     "metadata": {},
     "output_type": "execute_result"
    }
   ],
   "source": [
    "single_muon_mask & eta_mask"
   ]
  },
  {
   "cell_type": "markdown",
   "id": "7a755acb",
   "metadata": {},
   "source": [
    "This mask is True only for muons with no other muons in their event and abs(eta) < 2.\n",
    "\n",
    "Or we can get the union of selections with | (the OR operator):"
   ]
  },
  {
   "cell_type": "code",
   "execution_count": 32,
   "id": "2c0770ac",
   "metadata": {},
   "outputs": [
    {
     "data": {
      "text/plain": [
       "<Array [[True, True], ... True, True, True]] type='100000 * var * bool'>"
      ]
     },
     "execution_count": 32,
     "metadata": {},
     "output_type": "execute_result"
    }
   ],
   "source": [
    "single_muon_mask | eta_mask"
   ]
  },
  {
   "cell_type": "markdown",
   "id": "81a4e810",
   "metadata": {},
   "source": [
    "This mask is True for muons which are the only muon in their event or which have abs(eta) < 2."
   ]
  },
  {
   "cell_type": "markdown",
   "id": "51eee189",
   "metadata": {},
   "source": [
    "### Comparing histograms"
   ]
  },
  {
   "cell_type": "markdown",
   "id": "b1b6815f",
   "metadata": {},
   "source": [
    "Now we can use these operations to compare distributions for different selections. Let’s look at the pT of single-event muons split into two groups by whether or not abs(eta) < 2. All we have to do is provide a list of arrays as the first argument to hist rather than just one array. Note the square brackets around the two arrays:"
   ]
  },
  {
   "cell_type": "code",
   "execution_count": 33,
   "id": "bc813a69",
   "metadata": {},
   "outputs": [
    {
     "data": {
      "image/png": "[encoded data removed]",
      "text/plain": [
       "<Figure size 432x288 with 1 Axes>"
      ]
     },
     "metadata": {
      "needs_background": "light"
     },
     "output_type": "display_data"
    }
   ],
   "source": [
    "plt.hist([ak.flatten(branches['Muon_pt'][single_muon_mask & eta_mask]),\n",
    "          ak.flatten(branches['Muon_pt'][single_muon_mask & ~eta_mask])],\n",
    "         bins=25, range=(0, 50))\n",
    "plt.xlabel('Muon $p_{\\mathrm{T}}$ [GeV]')\n",
    "plt.ylabel('Number of single muons / 2 GeV')\n",
    "plt.show()"
   ]
  },
  {
   "cell_type": "markdown",
   "id": "cf4daa4f",
   "metadata": {},
   "source": [
    "Ah, but it doesn’t actually say which histogram is which. For that, we need to add labels and a legend:"
   ]
  },
  {
   "cell_type": "code",
   "execution_count": 34,
   "id": "9a671fe5",
   "metadata": {},
   "outputs": [
    {
     "data": {
      "image/png": "[encoded data removed]",
      "text/plain": [
       "<Figure size 432x288 with 1 Axes>"
      ]
     },
     "metadata": {
      "needs_background": "light"
     },
     "output_type": "display_data"
    }
   ],
   "source": [
    "plt.hist([ak.flatten(branches['Muon_pt'][single_muon_mask & eta_mask]),\n",
    "          ak.flatten(branches['Muon_pt'][single_muon_mask & ~eta_mask])],\n",
    "         label=['$|\\eta| < 2$', '$|\\eta| \\geq 2$'],\n",
    "         bins=25, range=(0, 50))\n",
    "plt.xlabel('Muon $p_{\\mathrm{T}}$ [GeV]')\n",
    "plt.ylabel('Number of single muons / 2 GeV')\n",
    "plt.legend()\n",
    "plt.show()"
   ]
  },
  {
   "cell_type": "markdown",
   "id": "ba40e326",
   "metadata": {},
   "source": [
    "label is a list of strings passed to hist, corresponding to the arrays (in the same order), and we have to add plt.legend() in order to actually draw a legend with those labels.\n",
    "\n",
    "Another problem is that these histograms are on different scales because there are fewer large eta muons. Often we want to compare only the shapes of the distribution, so we normalize the integral of each to 1. We can achieve this by adding density=True to the hist() call:"
   ]
  },
  {
   "cell_type": "code",
   "execution_count": 35,
   "id": "cea336ca",
   "metadata": {},
   "outputs": [
    {
     "data": {
      "image/png": "[encoded data removed]",
      "text/plain": [
       "<Figure size 432x288 with 1 Axes>"
      ]
     },
     "metadata": {
      "needs_background": "light"
     },
     "output_type": "display_data"
    }
   ],
   "source": [
    "plt.hist([ak.flatten(branches['Muon_pt'][single_muon_mask & eta_mask]),\n",
    "          ak.flatten(branches['Muon_pt'][single_muon_mask & ~eta_mask])],\n",
    "         label=['$|\\eta| < 2$', '$|\\eta| \\geq 2$'],\n",
    "         bins=25, range=(0, 50), density=True)\n",
    "plt.title('Normalized')\n",
    "plt.xlabel('Muon $p_{\\mathrm{T}}$ [GeV]')\n",
    "plt.ylabel('Number of single muons / 2 GeV')\n",
    "plt.legend()\n",
    "plt.show()"
   ]
  },
  {
   "cell_type": "markdown",
   "id": "5ce092ab",
   "metadata": {},
   "source": [
    "Now we can clearly see there’s a significantly higher fraction of muons with abs(eta) >= 2 at lower pT compared to muons with abs(eta) < 2. This makes geometric sense, since muons at higher abs(eta) are traveling in a direction less perpendicular to the beam.\n",
    "\n",
    "(This name of the density parameter refers to the idea of interpreting the histogram as a probability density function, which always has an integral of 1.)"
   ]
  },
  {
   "cell_type": "markdown",
   "id": "53f0b07d",
   "metadata": {},
   "source": [
    "# Analyzing data"
   ]
  },
  {
   "cell_type": "markdown",
   "id": "6fdf9562",
   "metadata": {},
   "source": [
    "Okay, we’re finally ready to look for resonances in dimuon events.\n",
    "\n",
    "We need a mask that selects events with exactly two muons:"
   ]
  },
  {
   "cell_type": "code",
   "execution_count": 36,
   "id": "6f18cceb",
   "metadata": {},
   "outputs": [],
   "source": [
    "two_muons_mask = branches['nMuon'] == 2"
   ]
  },
  {
   "cell_type": "markdown",
   "id": "bb180764",
   "metadata": {},
   "source": [
    "## Vectors"
   ]
  },
  {
   "cell_type": "markdown",
   "id": "39af1673",
   "metadata": {},
   "source": [
    "Now we need to construct the four-momenta of each muon. Vector is a package that provides an interface to operate on 2D, 3D, and 4D vectors. We can get the four-momenta of all muons in the tree by using vector.zip and passing it the pT, eta, phi, and mass arrays:"
   ]
  },
  {
   "cell_type": "code",
   "execution_count": 37,
   "id": "9d22072b",
   "metadata": {},
   "outputs": [],
   "source": [
    "import vector\n",
    "muon_p4 = vector.zip({'pt': branches['Muon_pt'], 'eta': branches['Muon_eta'], 'phi': branches['Muon_phi'], 'mass': branches['Muon_mass']})"
   ]
  },
  {
   "cell_type": "markdown",
   "id": "9761030b",
   "metadata": {},
   "source": [
    "We’ll go ahead and filter out events that don’t contain exactly two muons:"
   ]
  },
  {
   "cell_type": "code",
   "execution_count": 38,
   "id": "1c70eb94",
   "metadata": {},
   "outputs": [],
   "source": [
    "two_muons_p4 = muon_p4[two_muons_mask]"
   ]
  },
  {
   "cell_type": "markdown",
   "id": "831bf0d9",
   "metadata": {},
   "source": [
    "Then let’s take a look at it:"
   ]
  },
  {
   "cell_type": "code",
   "execution_count": 39,
   "id": "63fab9c4",
   "metadata": {},
   "outputs": [
    {
     "data": {
      "text/plain": [
       "<MomentumArray4D [[{rho: 10.8, ... tau: 0.106}]] type='48976 * var * Momentum4D[...'>"
      ]
     },
     "execution_count": 39,
     "metadata": {},
     "output_type": "execute_result"
    }
   ],
   "source": [
    "two_muons_p4"
   ]
  },
  {
   "cell_type": "markdown",
   "id": "47921e34",
   "metadata": {},
   "source": [
    "This is an array of 4D momenta. We can get the components back out with these properties:"
   ]
  },
  {
   "cell_type": "markdown",
   "id": "b0a56e12",
   "metadata": {},
   "source": [
    "```python\n",
    "two_muons_p4.pt\n",
    "two_muons_p4.eta\n",
    "two_muons_p4.phi\n",
    "two_muons_p4.E\n",
    "two_muons_p4.mass\n",
    "```"
   ]
  },
  {
   "cell_type": "markdown",
   "id": "98b8c377",
   "metadata": {},
   "source": [
    "What we want is the invariant mass of the two muons in each of these events. To do that, we need the sum of their four-vectors. First, we pick out the first muon in each event with 2D slice:"
   ]
  },
  {
   "cell_type": "code",
   "execution_count": 40,
   "id": "3ece82fa",
   "metadata": {},
   "outputs": [],
   "source": [
    "first_muon_p4 = two_muons_p4[:, 0]"
   ]
  },
  {
   "cell_type": "markdown",
   "id": "1913d2b3",
   "metadata": {},
   "source": [
    "In the notation [:, 0], : means “include every row in the first dimension” (i.e., all events in the array). The comma separates the selection along the first dimension from the selection along the second dimension. The second dimension is the muons in each event, so we want the first, or the one at the 0 index. Then we do the same to get the second muon in each event, just changing the 0 index to 1:"
   ]
  },
  {
   "cell_type": "code",
   "execution_count": 41,
   "id": "f0f1d8dd",
   "metadata": {},
   "outputs": [],
   "source": [
    "second_muon_p4 = two_muons_p4[:, 1]"
   ]
  },
  {
   "cell_type": "markdown",
   "id": "640f7b36",
   "metadata": {},
   "source": [
    "    DeltaR\n",
    "\n",
    "    Another useful feature of these four-vector arrays is being able to compute deltaR (= sqrt(deltaEta^2 + deltaPhi^2)):\n",
    "\n",
    "    first_muon_p4.deltaR(second_muon_p4)\n",
    "\n",
    "    plt.hist(first_muon_p4.deltaR(second_muon_p4), bins=100)\n",
    "    plt.xlabel('$\\Delta R$ between muons')\n",
    "    plt.ylabel('Number of two-muon events')\n",
    "    plt.show()\n",
    "\n",
    "    dimuon_delta_r.png\n",
    "\n",
    "    In principle, we could use this to clean up our invariant mass distribution, but we’ll skip that for simplicity.\n",
    "\n",
    "Adding the four-vectors of the first muon and the second muon for all events is really as easy as:"
   ]
  },
  {
   "cell_type": "code",
   "execution_count": 42,
   "id": "e9d3d56a",
   "metadata": {},
   "outputs": [
    {
     "data": {
      "text/plain": [
       "<MomentumArray4D [{rho: 8.79, phi: 1.83, ... tau: 16.5}] type='48976 * Momentum4...'>"
      ]
     },
     "execution_count": 42,
     "metadata": {},
     "output_type": "execute_result"
    }
   ],
   "source": [
    "sum_p4 = first_muon_p4 + second_muon_p4\n",
    "sum_p4"
   ]
  },
  {
   "cell_type": "markdown",
   "id": "e745793f",
   "metadata": {},
   "source": [
    "This is a 1D array of the four-vector sum for each event.\n",
    "\n",
    "The last thing we need to do before we’re ready to plot the spectrum is to select only pairs with opposite charges:"
   ]
  },
  {
   "cell_type": "code",
   "execution_count": 43,
   "id": "27219e32",
   "metadata": {},
   "outputs": [],
   "source": [
    "two_muons_charges = branches['Muon_charge'][two_muons_mask]\n",
    "opposite_sign_muons_mask = two_muons_charges[:, 0] != two_muons_charges[:, 1]"
   ]
  },
  {
   "cell_type": "markdown",
   "id": "b7ccee02",
   "metadata": {},
   "source": [
    "We apply this selection to the four-vector sums to get the dimuon four-vectors:"
   ]
  },
  {
   "cell_type": "code",
   "execution_count": 44,
   "id": "23fedb5f",
   "metadata": {},
   "outputs": [],
   "source": [
    "dimuon_p4 = sum_p4[opposite_sign_muons_mask]"
   ]
  },
  {
   "cell_type": "markdown",
   "id": "f19ea4fa",
   "metadata": {},
   "source": [
    "## Physics"
   ]
  },
  {
   "cell_type": "markdown",
   "id": "db5aa82a",
   "metadata": {},
   "source": []
  },
  {
   "cell_type": "code",
   "execution_count": 54,
   "id": "8c2ba4d9",
   "metadata": {},
   "outputs": [],
   "source": [
    "two_muons_charges = branches['Muon_charge'][two_muons_mask]\n",
    "opposite_sign_muons_mask = two_muons_charges[:, 0] != two_muons_charges[:, 1]"
   ]
  },
  {
   "cell_type": "code",
   "execution_count": 55,
   "id": "4042ba15",
   "metadata": {},
   "outputs": [],
   "source": [
    "dimuon_p4 = sum_p4[opposite_sign_muons_mask]"
   ]
  },
  {
   "cell_type": "code",
   "execution_count": 56,
   "id": "7d73712c",
   "metadata": {},
   "outputs": [
    {
     "data": {
      "image/png": "[encoded data removed]",
      "text/plain": [
       "<Figure size 432x288 with 1 Axes>"
      ]
     },
     "metadata": {
      "needs_background": "light"
     },
     "output_type": "display_data"
    }
   ],
   "source": [
    "plt.hist(dimuon_p4.mass, bins=np.logspace(np.log10(0.1), np.log10(1000), 200))\n",
    "plt.xlabel('Dimuon invariant mass [GeV]')\n",
    "plt.ylabel('Number of dimuon events')\n",
    "plt.xscale('log')\n",
    "plt.yscale('log')\n",
    "plt.show()"
   ]
  },
  {
   "cell_type": "code",
   "execution_count": 57,
   "id": "f53e9785",
   "metadata": {},
   "outputs": [
    {
     "data": {
      "text/plain": [
       "37183"
      ]
     },
     "execution_count": 57,
     "metadata": {},
     "output_type": "execute_result"
    }
   ],
   "source": [
    "len(dimuon_p4)"
   ]
  },
  {
   "cell_type": "markdown",
   "id": "0a665f63",
   "metadata": {},
   "source": [
    "    Exercise\n",
    "\n",
    "    Plot a histogram of the dimuon invariant mass on a log-log plot. Try to find all resonances (there are at least 7 visible). How many dimuon events are there?\n",
    "\n",
    "        Solution\n",
    "\n",
    "        plt.hist(dimuon_p4.mass, bins=np.logspace(np.log10(0.1), np.log10(1000), 200))\n",
    "        plt.xlabel('Dimuon invariant mass [GeV]')\n",
    "        plt.ylabel('Number of dimuon events')\n",
    "        plt.xscale('log')\n",
    "        plt.yscale('log')\n",
    "        plt.show()\n",
    "\n",
    "        dimuon_invariant_mass_hist_1.png\n",
    "\n",
    "        Labeled resonances:\n",
    "\n",
    "        dimuon_invariant_mass_hist_2_labeled.png\n",
    "\n",
    "        len(dimuon_p4)\n",
    "\n",
    "        37183\n",
    "\n",
    "    Key Points\n",
    "\n",
    "        Vector has allows you to manipulate arrays of four-vectors.\n",
    "\n",
    "        Uproot can be used to do real physics analyses."
   ]
  },
  {
   "cell_type": "markdown",
   "id": "756847fa",
   "metadata": {},
   "source": [
    "## Multiple files and large files"
   ]
  },
  {
   "cell_type": "markdown",
   "id": "aa2b33bf",
   "metadata": {},
   "source": [
    "`uproot.open()` and `tree.arrays()` works fine for looking at one file at a time, but often trees are spread across several ROOT files. There are a few options to deal with this in Uproot."
   ]
  },
  {
   "cell_type": "markdown",
   "id": "e36f46ae",
   "metadata": {},
   "source": [
    "The simplest is to join all the arrays"
   ]
  },
  {
   "cell_type": "markdown",
   "id": "a8bd62c5",
   "metadata": {},
   "source": [
    "`uproot.concatenate({'*.root': 'Events'})`"
   ]
  },
  {
   "cell_type": "markdown",
   "id": "401a4c0a",
   "metadata": {},
   "source": [
    "Another method is to iterate through the entries across all files:\n",
    "\n",
    "```python\n",
    "for events in uproot.iterate({'*.root': 'Events'}, step_size=100):\n",
    "    # do something with events\n",
    "```\n",
    "In each iteration of the loop, `events` is a 100-row chunk of the full tree. This avoids loading all entries at the same time. This is important if the files are too large to fit into memory."
   ]
  },
  {
   "cell_type": "markdown",
   "id": "89a9e9f0",
   "metadata": {},
   "source": [
    "There are also some other techniques to reduce the memory usage. If you are only interested in looking at a few events, you can do:"
   ]
  },
  {
   "cell_type": "code",
   "execution_count": 29,
   "id": "72846fce",
   "metadata": {},
   "outputs": [
    {
     "data": {
      "text/plain": [
       "<Array [{nMuon: 2, Muon_pt: [10.8, ... 1, -1]}] type='100 * {\"nMuon\": uint32, \"M...'>"
      ]
     },
     "execution_count": 29,
     "metadata": {},
     "output_type": "execute_result"
    }
   ],
   "source": [
    "tree.arrays(entry_stop=100)"
   ]
  },
  {
   "cell_type": "markdown",
   "id": "079d5f40",
   "metadata": {},
   "source": [
    "If you only need a subset of the branches from the tree, you can load each branch into an array individually, like:"
   ]
  },
  {
   "cell_type": "code",
   "execution_count": 30,
   "id": "4a6b8fb0",
   "metadata": {},
   "outputs": [
    {
     "data": {
      "text/plain": [
       "<Array [2, 2, 1, 4, 4, 3, ... 0, 3, 2, 3, 2, 3] type='100000 * uint32'>"
      ]
     },
     "execution_count": 30,
     "metadata": {},
     "output_type": "execute_result"
    }
   ],
   "source": [
    "tree['nMuon'].array()"
   ]
  },
  {
   "cell_type": "markdown",
   "id": "c8fcf13a",
   "metadata": {},
   "source": [
    "or you can provide a list of branch names to `arrays` to get only those branches:"
   ]
  },
  {
   "cell_type": "code",
   "execution_count": null,
   "id": "18f13613",
   "metadata": {},
   "outputs": [],
   "source": [
    "tree.arrays(branches=['Muon_pt', 'Muon_eta'])"
   ]
  },
  {
   "cell_type": "markdown",
   "id": "724b54ea",
   "metadata": {},
   "source": [
    "My preference is to use `uproot.lazy()`:"
   ]
  },
  {
   "cell_type": "code",
   "execution_count": 45,
   "id": "1dcfe55d",
   "metadata": {},
   "outputs": [
    {
     "data": {
      "text/plain": [
       "<Array [{nMuon: 2, Muon_pt: [10.8, ... -1, 1]}] type='61540413 * {\"nMuon\": uint3...'>"
      ]
     },
     "execution_count": 45,
     "metadata": {},
     "output_type": "execute_result"
    }
   ],
   "source": [
    "lazy_branches = uproot.lazy({'root://eospublic.cern.ch//eos/opendata/cms/derived-data/AOD2NanoAODOutreachTool/Run2012BC_DoubleMuParked_Muons.root': 'Events'})"
   ]
  },
  {
   "cell_type": "markdown",
   "id": "a1d87b3a",
   "metadata": {},
   "source": [
    "# Creating new objects and files"
   ]
  },
  {
   "cell_type": "markdown",
   "id": "6a7aea27",
   "metadata": {},
   "source": [
    "So far, we've seen how Uproot, Awkward, and Vector can be used to read and manipulate data from already existing ROOT files. In this section we'll look at how these packages can also be used to construct new objects and write data to files."
   ]
  },
  {
   "cell_type": "markdown",
   "id": "ce9b8242",
   "metadata": {},
   "source": [
    "## Arrays"
   ]
  },
  {
   "cell_type": "markdown",
   "id": "d0838524",
   "metadata": {},
   "source": [
    "New `Arrays` can be easily be created like NumPy's `np.array`"
   ]
  },
  {
   "cell_type": "code",
   "execution_count": 58,
   "id": "102ebe0e",
   "metadata": {},
   "outputs": [
    {
     "data": {
      "text/plain": [
       "<Array [[1], [2, 3], [], [4]] type='4 * var * int64'>"
      ]
     },
     "execution_count": 58,
     "metadata": {},
     "output_type": "execute_result"
    }
   ],
   "source": [
    "ak.Array([[1],\n",
    "          [2, 3],\n",
    "          [],\n",
    "          [4]])"
   ]
  },
  {
   "cell_type": "markdown",
   "id": "76043d79",
   "metadata": {},
   "source": [
    "## Vectors"
   ]
  },
  {
   "cell_type": "markdown",
   "id": "867c1918",
   "metadata": {},
   "source": [
    "Individual vectors can be created with `vector.obj`:"
   ]
  },
  {
   "cell_type": "code",
   "execution_count": 11,
   "id": "8493fd3e",
   "metadata": {},
   "outputs": [
    {
     "data": {
      "text/plain": [
       "vector.obj(pt=1, phi=1, eta=1, E=2)"
      ]
     },
     "execution_count": 11,
     "metadata": {},
     "output_type": "execute_result"
    }
   ],
   "source": [
    "vector.obj(pt=1, eta=1, phi=1, e=2)"
   ]
  },
  {
   "cell_type": "markdown",
   "id": "26070037",
   "metadata": {},
   "source": [
    "And we've already seen how to make arrays of vectors:"
   ]
  },
  {
   "cell_type": "code",
   "execution_count": 12,
   "id": "0c99d822",
   "metadata": {},
   "outputs": [
    {
     "data": {
      "text/plain": [
       "<MomentumArray4D [{rho: 1, phi: 1, eta: 1, t: 2}] type='1 * Momentum4D[\"rho\": in...'>"
      ]
     },
     "execution_count": 12,
     "metadata": {},
     "output_type": "execute_result"
    }
   ],
   "source": [
    "vector.zip({'pt': ak.Array([1]),\n",
    "            'eta': ak.Array([1]),\n",
    "            'phi': ak.Array([1]),\n",
    "            'e': ak.Array([2])})"
   ]
  },
  {
   "cell_type": "markdown",
   "id": "c818b798",
   "metadata": {},
   "source": [
    "## Files"
   ]
  },
  {
   "cell_type": "markdown",
   "id": "0d400f34",
   "metadata": {},
   "source": [
    "To write to a ROOT file, use `uproot.create()`, `uproot.recreate()`, or `uproot.update()`, which correspond to the same modes as in the `option` parameter of ROOT's `TFile.Open()`. For example, to create or replace `new_file.root`:"
   ]
  },
  {
   "cell_type": "code",
   "execution_count": 61,
   "id": "16d8c790",
   "metadata": {},
   "outputs": [
    {
     "data": {
      "text/plain": [
       "<WritableDirectory '/' at 0x7fe588a9e280>"
      ]
     },
     "execution_count": 61,
     "metadata": {},
     "output_type": "execute_result"
    }
   ],
   "source": [
    "uproot.recreate('new_file.root')"
   ]
  },
  {
   "cell_type": "markdown",
   "id": "1a71e200",
   "metadata": {},
   "source": [
    "Writable file objects allow an assignment syntax for new elements, similar to a dictionary:\n",
    "```\n",
    "file['new_object_name'] = new_object\n",
    "```"
   ]
  },
  {
   "cell_type": "markdown",
   "id": "f9c6f034",
   "metadata": {},
   "source": [
    "## Trees"
   ]
  },
  {
   "cell_type": "markdown",
   "id": "9452f415",
   "metadata": {},
   "source": [
    "Trees can be specified by an `Array` or a dictionary of arrays:"
   ]
  },
  {
   "cell_type": "code",
   "execution_count": 62,
   "id": "1907e580",
   "metadata": {},
   "outputs": [],
   "source": [
    "with uproot.update('new_file.root') as new_file:\n",
    "    new_file['new_tree'] = {'branch1': ak.Array([1]), 'branch2': ak.Array([2])}"
   ]
  },
  {
   "cell_type": "code",
   "execution_count": 65,
   "id": "505a4779",
   "metadata": {},
   "outputs": [
    {
     "data": {
      "text/plain": [
       "<Array [{branch1: 1, branch2: 2}] type='1 * {\"branch1\": int64, \"branch2\": int64}'>"
      ]
     },
     "execution_count": 65,
     "metadata": {},
     "output_type": "execute_result"
    }
   ],
   "source": [
    "uproot.open('new_file.root')['new_tree'].arrays()"
   ]
  },
  {
   "cell_type": "markdown",
   "id": "2f126c6c",
   "metadata": {},
   "source": [
    "## Histograms"
   ]
  },
  {
   "cell_type": "markdown",
   "id": "97e93090",
   "metadata": {},
   "source": [
    "Histograms from NumPy (or Hist) can be interpreted into ROOT's `TH1`:"
   ]
  },
  {
   "cell_type": "code",
   "execution_count": 7,
   "id": "5e523053",
   "metadata": {},
   "outputs": [
    {
     "data": {
      "text/plain": [
       "(array([20, 19, 15, 20, 28, 16, 24, 23, 17, 27, 23, 24, 18, 12, 23, 23, 19,\n",
       "        12, 13, 24, 22, 20, 29, 13, 17, 16, 16, 17, 20, 29, 22, 18, 17, 21,\n",
       "        16, 16, 29, 30, 21, 23, 13, 20, 15, 25, 25, 20, 18, 19, 15, 18]),\n",
       " array([0.  , 0.02, 0.04, 0.06, 0.08, 0.1 , 0.12, 0.14, 0.16, 0.18, 0.2 ,\n",
       "        0.22, 0.24, 0.26, 0.28, 0.3 , 0.32, 0.34, 0.36, 0.38, 0.4 , 0.42,\n",
       "        0.44, 0.46, 0.48, 0.5 , 0.52, 0.54, 0.56, 0.58, 0.6 , 0.62, 0.64,\n",
       "        0.66, 0.68, 0.7 , 0.72, 0.74, 0.76, 0.78, 0.8 , 0.82, 0.84, 0.86,\n",
       "        0.88, 0.9 , 0.92, 0.94, 0.96, 0.98, 1.  ]))"
      ]
     },
     "execution_count": 7,
     "metadata": {},
     "output_type": "execute_result"
    }
   ],
   "source": [
    "array = np.random.random(1000)\n",
    "numpy_histogram = np.histogram(array, bins=50, range=(0, 1))\n",
    "numpy_histogram"
   ]
  },
  {
   "cell_type": "code",
   "execution_count": 8,
   "id": "ce67f153",
   "metadata": {},
   "outputs": [],
   "source": [
    "with uproot.update('new_file.root') as new_file:\n",
    "    new_file['new_histogram'] = numpy_histogram"
   ]
  },
  {
   "cell_type": "code",
   "execution_count": 10,
   "id": "7012bd1a",
   "metadata": {},
   "outputs": [
    {
     "data": {
      "image/png": "[encoded data removed]",
      "text/plain": [
       "<Figure size 432x288 with 1 Axes>"
      ]
     },
     "metadata": {
      "needs_background": "light"
     },
     "output_type": "display_data"
    }
   ],
   "source": [
    "hist, bin_edges = uproot.open('new_file.root')['new_histogram'].to_numpy()\n",
    "plt.stairs(hist, bin_edges, fill=True)\n",
    "plt.show()"
   ]
  },
  {
   "cell_type": "markdown",
   "id": "5fae25aa",
   "metadata": {},
   "source": [
    "# Wrap up"
   ]
  },
  {
   "cell_type": "markdown",
   "id": "f9199a8a",
   "metadata": {},
   "source": [
    "# Links to more resources"
   ]
  },
  {
   "cell_type": "markdown",
   "id": "3a389aa5",
   "metadata": {},
   "source": [
    "- Uproot\n",
    "    - [GitHub repository](https://github.com/scikit-hep/uproot4)\n",
    "    - [Documentation](https://uproot.readthedocs.io/en/latest/)\n",
    "- Awkward\n",
    "    - [GitHub repository](https://github.com/scikit-hep/awkward-1.0)\n",
    "        - Contains several links to other presentations/tutorials\n",
    "    - [Documentation](https://awkward-array.org/quickstart.html)\n",
    "- Vector\n",
    "    - [GitHub repository](https://github.com/scikit-hep/vector)\n",
    "    - [Documentation](https://vector.readthedocs.io/en/latest/)"
   ]
  }
 ],
 "metadata": {
  "kernelspec": {
   "display_name": "Python 3 (ipykernel)",
   "language": "python",
   "name": "python3"
  },
  "language_info": {
   "codemirror_mode": {
    "name": "ipython",
    "version": 3
   },
   "file_extension": ".py",
   "mimetype": "text/x-python",
   "name": "python",
   "nbconvert_exporter": "python",
   "pygments_lexer": "ipython3",
   "version": "3.9.4"
  }
 },
 "nbformat": 4,
 "nbformat_minor": 5
}
