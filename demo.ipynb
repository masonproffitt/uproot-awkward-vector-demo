{
 "cells": [
  {
   "cell_type": "markdown",
   "id": "82278df6",
   "metadata": {},
   "source": [
    "# Introduction"
   ]
  },
  {
   "cell_type": "markdown",
   "id": "3204608e",
   "metadata": {},
   "source": [
    "This notebook is a quick starter guide on Uproot, Awkward Array, and Vector, which are all Python packages that are part of the Scikit-HEP project. We'll briefly go through parts of each and see how they work together.\n",
    "\n",
    "Most of this notebook is adapted from my [Uproot tutorial](https://hsf-training.github.io/hsf-training-uproot-webpage/index.html) aimed at beginners in data analysis in Python. Here, I'm assuming that the reader is already familiar with at least Python, NumPy, and Matplotlib, so I've compressed the tutorial and added a bit of more advanced material, but it still just scratches the surface of these packages. See the links at the end for more extensive resources."
   ]
  },
  {
   "cell_type": "markdown",
   "id": "474e8afe",
   "metadata": {},
   "source": [
    "## Motivation"
   ]
  },
  {
   "cell_type": "markdown",
   "id": "883924cc",
   "metadata": {},
   "source": [
    "### Python"
   ]
  },
  {
   "cell_type": "markdown",
   "id": "834cd090",
   "metadata": {},
   "source": [
    "For quite a while now, ROOT has been the main software used by particle physicists for data analysis. ROOT is written in C++, and at least until recently most analysis code has also been written in C++. Outside of HEP, Python is a more commonly used language for data analysis, which means that there are many popular and well-supported tools that can be utilized for common tasks. Python is also generally considered easier to learn than C++."
   ]
  },
  {
   "cell_type": "markdown",
   "id": "c2145e33",
   "metadata": {},
   "source": [
    "### Uproot"
   ]
  },
  {
   "cell_type": "markdown",
   "id": "e3b7b1fa",
   "metadata": {},
   "source": [
    "Uproot is a Python module that can read and write files in the ROOT format. It’s part of the Scikit-HEP project, a collection of Python tools for HEP data analysis. Uproot isn’t the only way to read/write ROOT files in Python; there are other packages that allow you to do this. However, there are some significant advantages of Uproot. We’ll go through a few here.\n",
    "\n",
    "The only software required by Uproot (other than Python itself, of course) is NumPy. Awkward Array and Vector are not required but highly recommended for use with Uproot. Uproot, Awkward Array, and Vector are all part of the Scikit-HEP project. All of the above are Python modules, which can be installed with nothing more than `pip` or `conda`.\n",
    "\n",
    "Most importantly, Uproot does not require any part of the ROOT software, which is quite large and can be non-trivial to install properly.\n",
    "\n",
    "Uproot was designed for efficient reading of files. It uses compiled functions with vector optimizations to perform very fast calculations on arrays.\n",
    "\n",
    "When you import a Python package that uses ROOT, there can be a delay of several seconds while all of the required libraries are loaded. This is required every time you restart the Python interpreter or run a script. By virtue of not using ROOT itself, Uproot doesn’t have this issue."
   ]
  },
  {
   "cell_type": "markdown",
   "id": "91e9ce3d",
   "metadata": {},
   "source": [
    "### Awkward"
   ]
  },
  {
   "cell_type": "markdown",
   "id": "fb3685c6",
   "metadata": {},
   "source": [
    "One issue with manipulating HEP data in Python is that it is often not rectangular. That is, the length of object collections is not constant. For example, different events will have different numbers of jets, and different jets will have different numbers of associated tracks. Such arrays are called jagged arrays. Packages like NumPy are only designed to work with rectangular arrays, where each dimension has a fixed length throughout the entire array.\n",
    "\n",
    "> Jagged vs. rectangular arrays\n",
    ">\n",
    "> The name “jagged array” comes from the idea that if you have a 2D array in which there’s a different number of entries in each row and you line rows up by their first element, then the right edge of the array will be “jagged” as opposed to straight:\n",
    ">\n",
    "> Rectangular array:\n",
    ">\n",
    "> ```\n",
    "> [[0, 1],\n",
    ">  [2, 3],\n",
    ">  [4, 5],\n",
    ">  [6, 7],\n",
    ">  [8, 9]]\n",
    "> ```\n",
    ">\n",
    "> Jagged array:\n",
    ">\n",
    "> ```\n",
    "> [[0, 1],\n",
    ">  [2, 3, 4],\n",
    ">  [5],\n",
    ">  [6, 7],\n",
    ">  [8, 9]]\n",
    "> ```\n",
    "\n",
    "Awkward Array is a package used to deal with jagged arrays so that they can be manipulated in ways almost identical to standard rectangular NumPy arrays. Other Python packages for reading ROOT files usually do not support jagged arrays, which means that you cannot do operations on multiple events at once if you have jagged data. But Uproot and Awkward Array can, and this is generally much faster than operating on one event at a time."
   ]
  },
  {
   "cell_type": "markdown",
   "id": "418a4663",
   "metadata": {},
   "source": [
    "### Vector"
   ]
  },
  {
   "cell_type": "markdown",
   "id": "a41943ab",
   "metadata": {},
   "source": [
    "Vector is a package that provides an interface for 2D, 3D, and (3+1)D vectors and can be used with NumPy and Awkward Array to perform operations on arrays of vectors. This includes calculations for quantities like invariant mass or $\\Delta R$."
   ]
  },
  {
   "cell_type": "markdown",
   "id": "20524be3",
   "metadata": {},
   "source": [
    "## Goal"
   ]
  },
  {
   "cell_type": "markdown",
   "id": "c0f5c795",
   "metadata": {},
   "source": [
    "In order to learn how to use these packages, we’ll try to do a very short and simple analysis to look for resonances in a dimuon events. The example ROOT file is from CMS open data from proton-proton collisions in 2012. Our first goal is just to get to the data within Uproot, so we need to open the file and navigate to the muon information."
   ]
  },
  {
   "cell_type": "markdown",
   "id": "5b5c4131",
   "metadata": {},
   "source": [
    "## Setup"
   ]
  },
  {
   "cell_type": "markdown",
   "id": "5fa8ecb6",
   "metadata": {},
   "source": [
    "### Installation"
   ]
  },
  {
   "cell_type": "markdown",
   "id": "03a645cb",
   "metadata": {},
   "source": [
    "These packages can be installed in the usual way if they haven't been already:\n",
    "\n",
    "`pip install uproot awkward vector`\n",
    "\n",
    "They are also available via `conda install` on the `conda-forge` channel."
   ]
  },
  {
   "cell_type": "markdown",
   "id": "c3c176f4",
   "metadata": {},
   "source": [
    "### Usage"
   ]
  },
  {
   "cell_type": "markdown",
   "id": "51e69792",
   "metadata": {},
   "source": [
    "We'll need NumPy and Matplotlib:"
   ]
  },
  {
   "cell_type": "code",
   "execution_count": 151,
   "id": "9f8f3f6d",
   "metadata": {},
   "outputs": [],
   "source": [
    "import numpy as np\n",
    "import matplotlib.pyplot as plt\n",
    "plt.rcParams['figure.dpi'] = 200 # make figures bigger and more readable"
   ]
  },
  {
   "cell_type": "markdown",
   "id": "ab49dc25",
   "metadata": {},
   "source": [
    "Uproot and Vector are normally imported by their name, and Awkward Array is usually imported as `ak` as an analogy to `numpy as np`:"
   ]
  },
  {
   "cell_type": "code",
   "execution_count": 152,
   "id": "74b194fa",
   "metadata": {},
   "outputs": [],
   "source": [
    "import uproot\n",
    "import awkward as ak\n",
    "import vector"
   ]
  },
  {
   "cell_type": "markdown",
   "id": "94d92f7c",
   "metadata": {},
   "source": [
    "# Inspecting data"
   ]
  },
  {
   "cell_type": "markdown",
   "id": "f087f3d6",
   "metadata": {},
   "source": [
    "## Files"
   ]
  },
  {
   "cell_type": "markdown",
   "id": "5fa26658",
   "metadata": {},
   "source": [
    "### Opening a file"
   ]
  },
  {
   "cell_type": "markdown",
   "id": "bdc06dc8",
   "metadata": {},
   "source": [
    "Now open the ROOT file and assign it to a variable (which I’ve named file here):"
   ]
  },
  {
   "cell_type": "code",
   "execution_count": 153,
   "id": "35ac77e8",
   "metadata": {},
   "outputs": [],
   "source": [
    "file = uproot.open('open-data-example.root')"
   ]
  },
  {
   "cell_type": "markdown",
   "id": "d0de8098",
   "metadata": {},
   "source": [
    "If you inspect file, you can see that it’s a `ReadOnlyDirectory` object:"
   ]
  },
  {
   "cell_type": "code",
   "execution_count": 154,
   "id": "63e82638",
   "metadata": {},
   "outputs": [
    {
     "data": {
      "text/plain": [
       "<ReadOnlyDirectory '/' at 0x7fa09e8bdd60>"
      ]
     },
     "execution_count": 154,
     "metadata": {},
     "output_type": "execute_result"
    }
   ],
   "source": [
    "file"
   ]
  },
  {
   "cell_type": "markdown",
   "id": "48b53327",
   "metadata": {},
   "source": [
    "### File contents"
   ]
  },
  {
   "cell_type": "markdown",
   "id": "6161f777",
   "metadata": {},
   "source": [
    "Just like any other kind of directory, you can list the contents (of the file). The name of each item in the file is called a key."
   ]
  },
  {
   "cell_type": "code",
   "execution_count": 155,
   "id": "36a0cdbb",
   "metadata": {},
   "outputs": [
    {
     "data": {
      "text/plain": [
       "['Events;1']"
      ]
     },
     "execution_count": 155,
     "metadata": {},
     "output_type": "execute_result"
    }
   ],
   "source": [
    "file.keys()"
   ]
  },
  {
   "cell_type": "markdown",
   "id": "3744b018",
   "metadata": {},
   "source": [
    "We can see that there is one key: “Events”. This doesn’t tell us what kind of object it refers to, though. ROOT files can contain many different types of objects, including subdirectories. The following function provides a way to inspect the types of each item:"
   ]
  },
  {
   "cell_type": "code",
   "execution_count": 156,
   "id": "650f42cb",
   "metadata": {},
   "outputs": [
    {
     "data": {
      "text/plain": [
       "{'Events;1': 'TTree'}"
      ]
     },
     "execution_count": 156,
     "metadata": {},
     "output_type": "execute_result"
    }
   ],
   "source": [
    "file.classnames()"
   ]
  },
  {
   "cell_type": "markdown",
   "id": "3e838b3c",
   "metadata": {},
   "source": [
    "The output contains pairs of the form `name: type`. Therefore the key `Events` refers to a `TTree` object. This is where all the data in this file is stored. The `;1` refers to the cycle number."
   ]
  },
  {
   "cell_type": "markdown",
   "id": "d8fd52e0",
   "metadata": {},
   "source": [
    "### Accessing contents"
   ]
  },
  {
   "cell_type": "markdown",
   "id": "a3d0a775",
   "metadata": {},
   "source": [
    "Now we want to actually access the object inside the file. You can do this just as you would to get an item in an array:"
   ]
  },
  {
   "cell_type": "code",
   "execution_count": 157,
   "id": "40650c39",
   "metadata": {},
   "outputs": [
    {
     "data": {
      "text/plain": [
       "<TTree 'Events' (6 branches) at 0x7fa09d6f0760>"
      ]
     },
     "execution_count": 157,
     "metadata": {},
     "output_type": "execute_result"
    }
   ],
   "source": [
    "file['Events']"
   ]
  },
  {
   "cell_type": "markdown",
   "id": "bbb49da0",
   "metadata": {},
   "source": [
    "This expression refers to the actual TTree object, which we will look at next."
   ]
  },
  {
   "cell_type": "markdown",
   "id": "b6001fbc",
   "metadata": {},
   "source": [
    "## Trees"
   ]
  },
  {
   "cell_type": "markdown",
   "id": "49db36bd",
   "metadata": {},
   "source": [
    "Trees in ROOT are basically just tables of information. Trees are composed of branches, which are the columns of the table. The rows usually represent events (individual bunch crossings).\n",
    "\n",
    "First we assign the tree to a variable (named `tree` here):"
   ]
  },
  {
   "cell_type": "code",
   "execution_count": 158,
   "id": "ab2e5722",
   "metadata": {},
   "outputs": [],
   "source": [
    "tree = file['Events']"
   ]
  },
  {
   "cell_type": "markdown",
   "id": "f4d4acd2",
   "metadata": {},
   "source": [
    "In order to find out what information is in the tree, we need to know what the branches (columns) are. The term key is used (again) here to refer to the names of the branches."
   ]
  },
  {
   "cell_type": "code",
   "execution_count": 159,
   "id": "7c487f4b",
   "metadata": {},
   "outputs": [
    {
     "data": {
      "text/plain": [
       "['nMuon', 'Muon_pt', 'Muon_eta', 'Muon_phi', 'Muon_mass', 'Muon_charge']"
      ]
     },
     "execution_count": 159,
     "metadata": {},
     "output_type": "execute_result"
    }
   ],
   "source": [
    "tree.keys()"
   ]
  },
  {
   "cell_type": "markdown",
   "id": "e53ff8f7",
   "metadata": {},
   "source": [
    "The above output is a list of the branch names. So we can see that for each event, we will have the number of muons in the event (nMuon) and the pT, eta, phi, mass, and charge of each muon. We can also see these keys with the types included using `.show()`:"
   ]
  },
  {
   "cell_type": "code",
   "execution_count": 160,
   "id": "2c8e0897",
   "metadata": {},
   "outputs": [
    {
     "name": "stdout",
     "output_type": "stream",
     "text": [
      "name                 | typename                 | interpretation                \n",
      "---------------------+--------------------------+-------------------------------\n",
      "nMuon                | uint32_t                 | AsDtype('>u4')\n",
      "Muon_pt              | float[]                  | AsJagged(AsDtype('>f4'))\n",
      "Muon_eta             | float[]                  | AsJagged(AsDtype('>f4'))\n",
      "Muon_phi             | float[]                  | AsJagged(AsDtype('>f4'))\n",
      "Muon_mass            | float[]                  | AsJagged(AsDtype('>f4'))\n",
      "Muon_charge          | int32_t[]                | AsJagged(AsDtype('>i4'))\n"
     ]
    }
   ],
   "source": [
    "tree.show()"
   ]
  },
  {
   "cell_type": "markdown",
   "id": "be0b4a4c",
   "metadata": {},
   "source": [
    "But how do we get the actual data from the table? There are several ways with Uproot, but the simplest is with the arrays() function:"
   ]
  },
  {
   "cell_type": "code",
   "execution_count": 161,
   "id": "f1dc0dc5",
   "metadata": {},
   "outputs": [
    {
     "data": {
      "text/plain": [
       "<Array [{nMuon: 2, Muon_pt: [10.8, ... -1, 1]}] type='100000 * {\"nMuon\": uint32,...'>"
      ]
     },
     "execution_count": 161,
     "metadata": {},
     "output_type": "execute_result"
    }
   ],
   "source": [
    "tree.arrays()"
   ]
  },
  {
   "cell_type": "markdown",
   "id": "427fef42",
   "metadata": {},
   "source": [
    "You can see some numbers in there, which indeed are from the data in the tree."
   ]
  },
  {
   "cell_type": "markdown",
   "id": "f6ac7add",
   "metadata": {},
   "source": [
    "## Branches"
   ]
  },
  {
   "cell_type": "markdown",
   "id": "270b0d95",
   "metadata": {},
   "source": [
    "Now we assign this object (which contains both the names and contents of the branches) to another variable (branches):"
   ]
  },
  {
   "cell_type": "code",
   "execution_count": 162,
   "id": "345980b1",
   "metadata": {},
   "outputs": [],
   "source": [
    "branches = tree.arrays()"
   ]
  },
  {
   "cell_type": "markdown",
   "id": "8558647b",
   "metadata": {},
   "source": [
    "Next let’s just look at each branch individually. You can access a single branch from branches in a similar way to getting an item from a ROOT file object (array-like notation):"
   ]
  },
  {
   "cell_type": "code",
   "execution_count": 163,
   "id": "5749ec65",
   "metadata": {},
   "outputs": [
    {
     "data": {
      "text/plain": [
       "<Array [2, 2, 1, 4, 4, 3, ... 0, 3, 2, 3, 2, 3] type='100000 * uint32'>"
      ]
     },
     "execution_count": 163,
     "metadata": {},
     "output_type": "execute_result"
    }
   ],
   "source": [
    "branches['nMuon']"
   ]
  },
  {
   "cell_type": "markdown",
   "id": "f09ba863",
   "metadata": {},
   "source": [
    "You can also access branches with attribute/property notation:"
   ]
  },
  {
   "cell_type": "code",
   "execution_count": 164,
   "id": "34831be1",
   "metadata": {},
   "outputs": [
    {
     "data": {
      "text/plain": [
       "<Array [2, 2, 1, 4, 4, 3, ... 0, 3, 2, 3, 2, 3] type='100000 * uint32'>"
      ]
     },
     "execution_count": 164,
     "metadata": {},
     "output_type": "execute_result"
    }
   ],
   "source": [
    "branches.nMuon"
   ]
  },
  {
   "cell_type": "markdown",
   "id": "522de7b3",
   "metadata": {},
   "source": [
    "You can see the partial list of numbers in the output that represents the number of muons in each event. It’s abbreviated with an ellipsis (...) so that it doesn’t take up the whole page.\n",
    "\n",
    "These Array objects are a special type provided by the Awkward Array package. The type=100000 * uint32 means that there are 100,000 entries and that each entry is a 32-bit unsigned integer. Each entry corresponds to one event.\n",
    "\n",
    "Let’s look at another branch:"
   ]
  },
  {
   "cell_type": "code",
   "execution_count": 165,
   "id": "7dc89064",
   "metadata": {},
   "outputs": [
    {
     "data": {
      "text/plain": [
       "<Array [[10.8, 15.7], ... 11.4, 3.08, 4.97]] type='100000 * var * float32'>"
      ]
     },
     "execution_count": 165,
     "metadata": {},
     "output_type": "execute_result"
    }
   ],
   "source": [
    "branches['Muon_pt']"
   ]
  },
  {
   "cell_type": "markdown",
   "id": "c548efee",
   "metadata": {},
   "source": [
    "This is a jagged array because the number of entries is different for different events (because each event can have a different number of muons). Note that there are square brackets [] surrounding the list of entries for each event. The type='100000 * var * float32' means that there are 100,000 rows, each containing a variable number of 32-bit floating point numbers. This is basically an array of arrays (or a 2D array)."
   ]
  },
  {
   "cell_type": "markdown",
   "id": "cecbfa41",
   "metadata": {},
   "source": [
    "### Events"
   ]
  },
  {
   "cell_type": "markdown",
   "id": "5c91d6db",
   "metadata": {},
   "source": [
    "If we want to focus on a particular event, we can index it just like a normal array:"
   ]
  },
  {
   "cell_type": "code",
   "execution_count": 166,
   "id": "1750d35b",
   "metadata": {},
   "outputs": [
    {
     "data": {
      "text/plain": [
       "<Array [10.8, 15.7] type='2 * float32'>"
      ]
     },
     "execution_count": 166,
     "metadata": {},
     "output_type": "execute_result"
    }
   ],
   "source": [
    "branches['Muon_pt'][0]"
   ]
  },
  {
   "cell_type": "markdown",
   "id": "2e8d69b1",
   "metadata": {},
   "source": [
    "From the above output, the first event has two muons, and the two numbers in the list are the muons’ $p_\\mathrm{T}$. It’s not specified anywhere in the file, but the units are GeV. Let’s look at the third event:"
   ]
  },
  {
   "cell_type": "code",
   "execution_count": 167,
   "id": "dfbbbf49",
   "metadata": {},
   "outputs": [
    {
     "data": {
      "text/plain": [
       "<Array [3.28] type='1 * float32'>"
      ]
     },
     "execution_count": 167,
     "metadata": {},
     "output_type": "execute_result"
    }
   ],
   "source": [
    "branches['Muon_pt'][2]"
   ]
  },
  {
   "cell_type": "markdown",
   "id": "05c38c12",
   "metadata": {},
   "source": [
    "It only has one muon."
   ]
  },
  {
   "cell_type": "markdown",
   "id": "441b2a03",
   "metadata": {},
   "source": [
    "What if we want to get all of the information about a single event? So far we’ve accessed data in branches by providing a branch name, but we can also just use an event index:"
   ]
  },
  {
   "cell_type": "code",
   "execution_count": 168,
   "id": "19de6212",
   "metadata": {},
   "outputs": [
    {
     "data": {
      "text/plain": [
       "<Record ... 0.106], Muon_charge: [-1, -1]} type='{\"nMuon\": uint32, \"Muon_pt\": va...'>"
      ]
     },
     "execution_count": 168,
     "metadata": {},
     "output_type": "execute_result"
    }
   ],
   "source": [
    "branches[0]"
   ]
  },
  {
   "cell_type": "markdown",
   "id": "7229dc31",
   "metadata": {},
   "source": [
    "This is a `Record` object, which is another special type provided by Awkward Array. It functions basically the same way as a standard Python dictionary (dict). Unfortunately, most of the interesting information is still hidden in the above output to save space. A little trick we can use to force printing all the data is adding `.tolist()`:"
   ]
  },
  {
   "cell_type": "code",
   "execution_count": 169,
   "id": "8cd72f21",
   "metadata": {},
   "outputs": [
    {
     "data": {
      "text/plain": [
       "{'nMuon': 2,\n",
       " 'Muon_pt': [10.763696670532227, 15.736522674560547],\n",
       " 'Muon_eta': [1.0668272972106934, -0.563786506652832],\n",
       " 'Muon_phi': [-0.03427272289991379, 2.5426154136657715],\n",
       " 'Muon_mass': [0.10565836727619171, 0.10565836727619171],\n",
       " 'Muon_charge': [-1, -1]}"
      ]
     },
     "execution_count": 169,
     "metadata": {},
     "output_type": "execute_result"
    }
   ],
   "source": [
    "branches[0].tolist()"
   ]
  },
  {
   "cell_type": "markdown",
   "id": "9c68234a",
   "metadata": {},
   "source": [
    "There we go. Now we can see the whole picture for an individual event.\n",
    "\n",
    "`.tolist()` is a NumPy function that has been extended to Awkward Array objects. As the name suggests, it converts NumPy arrays to Python lists. In the case of trees, which have named branches, it actually converts to a dictionary of lists. It can be very useful when you want to understand exactly what’s in an Array or Record. Be careful when using it, though–trying to print out an entire branch or tree could cause Python to crash if it’s large enough. Therefore it’s best to only use `tolist()` on one or a few events at a time to be safe."
   ]
  },
  {
   "cell_type": "markdown",
   "id": "79af7e75",
   "metadata": {},
   "source": [
    "If you only want to see a description of the structure of the array and types within it (not the data itself), you can use `.type`:"
   ]
  },
  {
   "cell_type": "code",
   "execution_count": 170,
   "id": "0c347029",
   "metadata": {},
   "outputs": [
    {
     "data": {
      "text/plain": [
       "100000 * {\"nMuon\": uint32, \"Muon_pt\": var * float32, \"Muon_eta\": var * float32, \"Muon_phi\": var * float32, \"Muon_mass\": var * float32, \"Muon_charge\": var * int32}"
      ]
     },
     "execution_count": 170,
     "metadata": {},
     "output_type": "execute_result"
    }
   ],
   "source": [
    "branches.type"
   ]
  },
  {
   "cell_type": "markdown",
   "id": "625f92bc",
   "metadata": {},
   "source": [
    "# Transforming data"
   ]
  },
  {
   "cell_type": "markdown",
   "id": "f07b7154",
   "metadata": {},
   "source": [
    "Uproot is designed for columnar analysis, which means performing operations on entire columns (branches) at a time, rather than operating on every event individually."
   ]
  },
  {
   "cell_type": "markdown",
   "id": "8dfc5c37",
   "metadata": {},
   "source": [
    "## Counting"
   ]
  },
  {
   "cell_type": "markdown",
   "id": "c5368fe1",
   "metadata": {},
   "source": [
    "The simplest task we need for analysis is counting (i.e., cutflow). To count the total number of events, we can use the Python built-in function `len()` on any of the following:\n",
    "\n",
    "```python\n",
    "len(branches)\n",
    "len(branches['nMuon'])\n",
    "len(branches['Muon_pt']) # or any of the other branches...\n",
    "```\n",
    "\n",
    "which will output `100000`. So there are 100,000 events."
   ]
  },
  {
   "cell_type": "markdown",
   "id": "6041f605",
   "metadata": {},
   "source": [
    "Note that `len` will only tell you the length of the outermost dimension. The `Muon_pt` branch has more than 100,000 numbers in it. We can see this by flattening the array. `np.ravel` is a simple function to completely flatten an array:"
   ]
  },
  {
   "cell_type": "code",
   "execution_count": 171,
   "id": "af56159e",
   "metadata": {},
   "outputs": [
    {
     "data": {
      "text/plain": [
       "<Array [10.8, 15.7, 10.5, ... 11.4, 3.08, 4.97] type='235286 * float32'>"
      ]
     },
     "execution_count": 171,
     "metadata": {},
     "output_type": "execute_result"
    }
   ],
   "source": [
    "np.ravel(branches['Muon_pt'])"
   ]
  },
  {
   "cell_type": "markdown",
   "id": "9619a20a",
   "metadata": {},
   "source": [
    "Note that I've used a NumPy function here on an `ak.Array`. Most of the standard NumPy functions work fine on Awkward `Array`s, although there are also equivalent Awkward functions like `ak.ravel`. Generally speaking, the default behavior between these NumPy and Awkward functions is the same, but the `ak` versions have optional parameters for funcationality that is specific to jagged arrays. "
   ]
  },
  {
   "cell_type": "markdown",
   "id": "e858587d",
   "metadata": {},
   "source": [
    "Awkward also has functions that wouldn't make sense in NumPy. For counting the number of entries in each event for a branch, there's `ak.num`:"
   ]
  },
  {
   "cell_type": "code",
   "execution_count": 172,
   "id": "951e6c9b",
   "metadata": {},
   "outputs": [
    {
     "data": {
      "text/plain": [
       "<Array [2, 2, 1, 4, 4, 3, ... 0, 3, 2, 3, 2, 3] type='100000 * int64'>"
      ]
     },
     "execution_count": 172,
     "metadata": {},
     "output_type": "execute_result"
    }
   ],
   "source": [
    "ak.num(branches['Muon_pt'])"
   ]
  },
  {
   "cell_type": "markdown",
   "id": "64b1215c",
   "metadata": {},
   "source": [
    "which in this case is equal to already existing `branches['nMuon']`. In NumPy, there's no need for this function, since it would be the same number over and over, and you could just get it from `np.ndarray.shape`."
   ]
  },
  {
   "cell_type": "markdown",
   "id": "b884745d",
   "metadata": {},
   "source": [
    "## Selections"
   ]
  },
  {
   "cell_type": "markdown",
   "id": "778c0338",
   "metadata": {},
   "source": [
    "### Selections from 1D arrays"
   ]
  },
  {
   "cell_type": "markdown",
   "id": "13dcffa9",
   "metadata": {},
   "source": [
    "To do more interesting counting or plotting, we want to be able to select only events or muons that pass some criteria. Just as you can compare two numbers, like `1 < 2` and get a `True` or `False` value, you can put arrays in comparisons as well. Let’s look at this case:"
   ]
  },
  {
   "cell_type": "code",
   "execution_count": 173,
   "id": "fce11527",
   "metadata": {},
   "outputs": [
    {
     "data": {
      "text/plain": [
       "<Array [False, False, True, ... False, False] type='100000 * bool'>"
      ]
     },
     "execution_count": 173,
     "metadata": {},
     "output_type": "execute_result"
    }
   ],
   "source": [
    "branches['nMuon'] == 1"
   ]
  },
  {
   "cell_type": "markdown",
   "id": "b902fc60",
   "metadata": {},
   "source": [
    "This is checking for equality between an array and the number 1. Of course these are different types (array vs. scalar), so the Python objects are certainly not identical, but you can see the return value is not just False. What happens is that each element in the array is compared to the scalar value, and the return value is a new array (of the same shape) filled with all these comparison results. So we can interpret the output as the result of testing whether each event has exactly one muon or not. The first two events do not, the third does, and so on.\n",
    "\n",
    "This array of Boolean values is called a mask because we can use it to pick out only the elements in the array that satisfy some criteria (like having exactly one muon). This is very useful, and we will save it to a variable to save typing later:"
   ]
  },
  {
   "cell_type": "code",
   "execution_count": 174,
   "id": "bb806bcc",
   "metadata": {},
   "outputs": [],
   "source": [
    "single_muon_mask = branches['nMuon'] == 1"
   ]
  },
  {
   "cell_type": "markdown",
   "id": "75bfea57",
   "metadata": {},
   "source": [
    "### Counting with selections"
   ]
  },
  {
   "cell_type": "markdown",
   "id": "78312779",
   "metadata": {},
   "source": [
    "Now let’s say we want to know how many of these single-muon events there are. Note that `len()` won’t work because the length of the array is still 100,000. That is, there’s a value for every event (even if that value is `False`). We need the number of `True`s in the array. There are multiple ways to do this, but my favorite is:"
   ]
  },
  {
   "cell_type": "code",
   "execution_count": 175,
   "id": "9ab66fc4",
   "metadata": {},
   "outputs": [
    {
     "data": {
      "text/plain": [
       "13447"
      ]
     },
     "execution_count": 175,
     "metadata": {},
     "output_type": "execute_result"
    }
   ],
   "source": [
    "np.sum(single_muon_mask)"
   ]
  },
  {
   "cell_type": "markdown",
   "id": "7ba4e076",
   "metadata": {},
   "source": [
    "`sum()` adds all the array values together. `True` is interpreted as `1` and `False` is interpreted as `0`, thus `sum()` is just the number of True entries. So there are 13,447 events with exactly one muon."
   ]
  },
  {
   "cell_type": "markdown",
   "id": "e7f052e4",
   "metadata": {},
   "source": [
    "### Applying a mask to an array"
   ]
  },
  {
   "cell_type": "markdown",
   "id": "90385fc7",
   "metadata": {},
   "source": [
    "If we want to apply some selection to an array (i.e., cut out events or muons that don’t pass), we just act like the selection mask is an index. For example, if we want the pT of only those muons in events with exactly one muon (so they’re the only muon in that event):"
   ]
  },
  {
   "cell_type": "code",
   "execution_count": 176,
   "id": "b8f08d4d",
   "metadata": {},
   "outputs": [
    {
     "data": {
      "text/plain": [
       "<Array [[3.28], [3.84], ... [13.3], [9.48]] type='13447 * var * float32'>"
      ]
     },
     "execution_count": 176,
     "metadata": {},
     "output_type": "execute_result"
    }
   ],
   "source": [
    "branches['Muon_pt'][single_muon_mask]"
   ]
  },
  {
   "cell_type": "markdown",
   "id": "309ea63a",
   "metadata": {},
   "source": [
    "We can check that we really are only looking at the events that pass the selection by looking the number of rows:"
   ]
  },
  {
   "cell_type": "code",
   "execution_count": 177,
   "id": "22f1a7db",
   "metadata": {},
   "outputs": [
    {
     "data": {
      "text/plain": [
       "13447"
      ]
     },
     "execution_count": 177,
     "metadata": {},
     "output_type": "execute_result"
    }
   ],
   "source": [
    "len(branches['Muon_pt'][single_muon_mask])"
   ]
  },
  {
   "cell_type": "markdown",
   "id": "77242ed1",
   "metadata": {},
   "source": [
    "Yep, this matches the counting from single_muon_mask.sum() above."
   ]
  },
  {
   "cell_type": "markdown",
   "id": "9f79ad1a",
   "metadata": {},
   "source": [
    "### Plotting with selections"
   ]
  },
  {
   "cell_type": "markdown",
   "id": "4eba1a5b",
   "metadata": {},
   "source": [
    "We can also use masks to plot quantities after some selection. For example, let’s plot the muon $p_\\mathrm{T}$ for only the single-muon events. Note that, just like for multidimensional NumPy arrays, `Array`s must be flattened before histogramming."
   ]
  },
  {
   "cell_type": "code",
   "execution_count": 178,
   "id": "6db0683d",
   "metadata": {},
   "outputs": [
    {
     "data": {
      "image/png": "[encoded data removed]",
      "text/plain": [
       "<Figure size 1200x800 with 1 Axes>"
      ]
     },
     "metadata": {
      "needs_background": "light"
     },
     "output_type": "display_data"
    }
   ],
   "source": [
    "plt.hist(ak.ravel(branches['Muon_pt'][single_muon_mask]), bins=100, range=(0, 100))\n",
    "plt.xlabel('Muon $p_{\\mathrm{T}}$ [GeV]')\n",
    "plt.ylabel('Number of single muons / 1 GeV')\n",
    "plt.yscale('log')\n",
    "plt.show()"
   ]
  },
  {
   "cell_type": "markdown",
   "id": "65ebf643",
   "metadata": {},
   "source": [
    "### Selections from a jagged array"
   ]
  },
  {
   "cell_type": "markdown",
   "id": "7a292319",
   "metadata": {},
   "source": [
    "Let’s look at a comparison for a jagged array, using the absolute value of muon eta:"
   ]
  },
  {
   "cell_type": "code",
   "execution_count": 179,
   "id": "1c852351",
   "metadata": {},
   "outputs": [
    {
     "data": {
      "text/plain": [
       "<Array [[True, True], ... True, True, True]] type='100000 * var * bool'>"
      ]
     },
     "execution_count": 179,
     "metadata": {},
     "output_type": "execute_result"
    }
   ],
   "source": [
    "eta_mask = abs(branches['Muon_eta']) < 2\n",
    "eta_mask"
   ]
  },
  {
   "cell_type": "markdown",
   "id": "ec80a106",
   "metadata": {},
   "source": [
    "Again, the mask array has the same dimensions as the original array. There’s one Boolean value for each muon, corresponding to whether its eta is less than 2 in absolute value."
   ]
  },
  {
   "cell_type": "markdown",
   "id": "26ea9d42",
   "metadata": {},
   "source": [
    "We can do counting and plotting just as before:"
   ]
  },
  {
   "cell_type": "code",
   "execution_count": 180,
   "id": "50563ac8",
   "metadata": {},
   "outputs": [
    {
     "data": {
      "text/plain": [
       "204564"
      ]
     },
     "execution_count": 180,
     "metadata": {},
     "output_type": "execute_result"
    }
   ],
   "source": [
    "np.sum(eta_mask)"
   ]
  },
  {
   "cell_type": "markdown",
   "id": "a1f8ffcf",
   "metadata": {},
   "source": [
    "This is the number of muons that pass the eta cut."
   ]
  },
  {
   "cell_type": "markdown",
   "id": "5291da21",
   "metadata": {},
   "source": [
    "### Plotting"
   ]
  },
  {
   "cell_type": "markdown",
   "id": "48841bb4",
   "metadata": {},
   "source": [
    "Let’s plot both the original eta distribution and the one after the cut to verify its effect:"
   ]
  },
  {
   "cell_type": "code",
   "execution_count": 181,
   "id": "708aecdb",
   "metadata": {},
   "outputs": [
    {
     "data": {
      "image/png": "[encoded data removed]",
      "text/plain": [
       "<Figure size 1200x800 with 1 Axes>"
      ]
     },
     "metadata": {
      "needs_background": "light"
     },
     "output_type": "display_data"
    },
    {
     "data": {
      "image/png": "[encoded data removed]",
      "text/plain": [
       "<Figure size 1200x800 with 1 Axes>"
      ]
     },
     "metadata": {
      "needs_background": "light"
     },
     "output_type": "display_data"
    }
   ],
   "source": [
    "plt.hist(ak.ravel(branches['Muon_eta']), bins=50, range=(-2.5, 2.5))\n",
    "plt.title('No selection')\n",
    "plt.xlabel('Muon $\\eta$')\n",
    "plt.ylabel('Number of muons')\n",
    "plt.show()\n",
    "\n",
    "plt.hist(ak.flatten(branches['Muon_eta'][eta_mask]), bins=50, range=(-2.5, 2.5))\n",
    "plt.title('With $|\\eta| < 2$ selection')\n",
    "plt.xlabel('Muon $\\eta$')\n",
    "plt.ylabel('Number of muons')\n",
    "plt.show()"
   ]
  },
  {
   "cell_type": "markdown",
   "id": "94186dce",
   "metadata": {},
   "source": [
    "You can see the second plot just has both ends past 2 cut off, demonstrating that we’ve cut those muons out."
   ]
  },
  {
   "cell_type": "markdown",
   "id": "2a0b17cb",
   "metadata": {},
   "source": [
    "### Operations on selections"
   ]
  },
  {
   "cell_type": "markdown",
   "id": "8bcc1b2c",
   "metadata": {},
   "source": [
    "We can invert selections with `~` (the NOT operator):"
   ]
  },
  {
   "cell_type": "code",
   "execution_count": 182,
   "id": "4043ee61",
   "metadata": {},
   "outputs": [
    {
     "data": {
      "text/plain": [
       "<Array [True, True, False, ... True, True] type='100000 * bool'>"
      ]
     },
     "execution_count": 182,
     "metadata": {},
     "output_type": "execute_result"
    }
   ],
   "source": [
    "~single_muon_mask"
   ]
  },
  {
   "cell_type": "markdown",
   "id": "80d66f19",
   "metadata": {},
   "source": [
    "This new mask is False only for events with exactly one muon and True otherwise.\n",
    "\n",
    "We can get the intersection of selections with `&` (the AND operator):"
   ]
  },
  {
   "cell_type": "code",
   "execution_count": 183,
   "id": "fc8e6419",
   "metadata": {},
   "outputs": [
    {
     "data": {
      "text/plain": [
       "<Array [[False, False], ... False, False]] type='100000 * var * bool'>"
      ]
     },
     "execution_count": 183,
     "metadata": {},
     "output_type": "execute_result"
    }
   ],
   "source": [
    "single_muon_mask & eta_mask"
   ]
  },
  {
   "cell_type": "markdown",
   "id": "3cec9900",
   "metadata": {},
   "source": [
    "This mask is True only for muons with no other muons in their event and `abs(eta) < 2`.\n",
    "\n",
    "Or we can get the union of selections with `|` (the OR operator):"
   ]
  },
  {
   "cell_type": "code",
   "execution_count": 184,
   "id": "2192e6ef",
   "metadata": {},
   "outputs": [
    {
     "data": {
      "text/plain": [
       "<Array [[True, True], ... True, True, True]] type='100000 * var * bool'>"
      ]
     },
     "execution_count": 184,
     "metadata": {},
     "output_type": "execute_result"
    }
   ],
   "source": [
    "single_muon_mask | eta_mask"
   ]
  },
  {
   "cell_type": "markdown",
   "id": "598dd5e3",
   "metadata": {},
   "source": [
    "This mask is True for muons which are the only muon in their event or which have `abs(eta) < 2`."
   ]
  },
  {
   "cell_type": "markdown",
   "id": "1496d871",
   "metadata": {},
   "source": [
    "### Comparing histograms"
   ]
  },
  {
   "cell_type": "markdown",
   "id": "c5add9f7",
   "metadata": {},
   "source": [
    "Now we can use these operations to compare distributions for different selections. Let’s look at the $p_\\mathrm{T}$ of single-event muons split into two groups by whether or not `abs(eta) < 2`. All we have to do is provide a list of arrays as the first argument to hist rather than just one array. Note the square brackets around the two arrays:"
   ]
  },
  {
   "cell_type": "code",
   "execution_count": 185,
   "id": "8f899eef",
   "metadata": {},
   "outputs": [
    {
     "data": {
      "image/png": "[encoded data removed]",
      "text/plain": [
       "<Figure size 1200x800 with 1 Axes>"
      ]
     },
     "metadata": {
      "needs_background": "light"
     },
     "output_type": "display_data"
    }
   ],
   "source": [
    "plt.hist([ak.ravel(branches['Muon_pt'][single_muon_mask & eta_mask]),\n",
    "          ak.ravel(branches['Muon_pt'][single_muon_mask & ~eta_mask])],\n",
    "         label=['$|\\eta| < 2$', '$|\\eta| \\geq 2$'],\n",
    "         bins=25, range=(0, 50), density=True)\n",
    "plt.title('Normalized')\n",
    "plt.xlabel('Muon $p_{\\mathrm{T}}$ [GeV]')\n",
    "plt.ylabel('Number of single muons / 2 GeV')\n",
    "plt.legend()\n",
    "plt.show()"
   ]
  },
  {
   "cell_type": "markdown",
   "id": "eec00421",
   "metadata": {},
   "source": [
    "Now we can clearly see there’s a significantly higher fraction of muons with `abs(eta) >= 2` at lower pT compared to muons with `abs(eta) < 2`. This makes geometric sense, since muons at higher `abs(eta)` are traveling in a direction less perpendicular to the beam."
   ]
  },
  {
   "cell_type": "markdown",
   "id": "493d37fc",
   "metadata": {},
   "source": [
    "# Analyzing data"
   ]
  },
  {
   "cell_type": "markdown",
   "id": "593675b1",
   "metadata": {},
   "source": [
    "Okay, we’re finally ready to look for resonances in dimuon events.\n",
    "\n",
    "We need a mask that selects events with exactly two muons:"
   ]
  },
  {
   "cell_type": "code",
   "execution_count": 186,
   "id": "779db89d",
   "metadata": {},
   "outputs": [],
   "source": [
    "two_muons_mask = branches['nMuon'] == 2"
   ]
  },
  {
   "cell_type": "markdown",
   "id": "eea05ac7",
   "metadata": {},
   "source": [
    "## Vectors"
   ]
  },
  {
   "cell_type": "markdown",
   "id": "90295a88",
   "metadata": {},
   "source": [
    "Now we need to construct the four-momenta of each muon. Vector is a package that provides an interface to operate on 2D, 3D, and 4D vectors. We can get the four-momenta of all muons in the tree by using `vector.zip` and passing it the $p_\\mathrm{T}$, eta, phi, and mass arrays:"
   ]
  },
  {
   "cell_type": "code",
   "execution_count": 187,
   "id": "2083a679",
   "metadata": {},
   "outputs": [],
   "source": [
    "import vector\n",
    "muon_p4 = vector.zip({'pt': branches['Muon_pt'], 'eta': branches['Muon_eta'], 'phi': branches['Muon_phi'], 'mass': branches['Muon_mass']})"
   ]
  },
  {
   "cell_type": "markdown",
   "id": "c42ac0ac",
   "metadata": {},
   "source": [
    "We’ll go ahead and filter out events that don’t contain exactly two muons:"
   ]
  },
  {
   "cell_type": "code",
   "execution_count": 188,
   "id": "6fe5e515",
   "metadata": {},
   "outputs": [],
   "source": [
    "two_muons_p4 = muon_p4[two_muons_mask]"
   ]
  },
  {
   "cell_type": "markdown",
   "id": "c61ee263",
   "metadata": {},
   "source": [
    "Then let’s take a look at it:"
   ]
  },
  {
   "cell_type": "code",
   "execution_count": 189,
   "id": "f1206a90",
   "metadata": {},
   "outputs": [
    {
     "data": {
      "text/plain": [
       "<MomentumArray4D [[{rho: 10.8, ... tau: 0.106}]] type='48976 * var * Momentum4D[...'>"
      ]
     },
     "execution_count": 189,
     "metadata": {},
     "output_type": "execute_result"
    }
   ],
   "source": [
    "two_muons_p4"
   ]
  },
  {
   "cell_type": "markdown",
   "id": "d4c5bd40",
   "metadata": {},
   "source": [
    "This is an array of 4D momenta. We can get the components back out with these properties:"
   ]
  },
  {
   "cell_type": "markdown",
   "id": "929f6b98",
   "metadata": {},
   "source": [
    "```python\n",
    "two_muons_p4.pt\n",
    "two_muons_p4.eta\n",
    "two_muons_p4.phi\n",
    "two_muons_p4.E\n",
    "two_muons_p4.mass\n",
    "```"
   ]
  },
  {
   "cell_type": "markdown",
   "id": "e06dcffb",
   "metadata": {},
   "source": [
    "What we want is the invariant mass of the two muons in each of these events. To do that, we need the sum of their four-vectors. First, we pick out the first muon in each event with 2D slice:"
   ]
  },
  {
   "cell_type": "code",
   "execution_count": 190,
   "id": "8164eccf",
   "metadata": {},
   "outputs": [],
   "source": [
    "first_muon_p4 = two_muons_p4[:, 0]"
   ]
  },
  {
   "cell_type": "markdown",
   "id": "e5df16be",
   "metadata": {},
   "source": [
    "In the notation `[:, 0]`, : means “include every row in the first dimension” (i.e., all events in the array). The comma separates the selection along the first dimension from the selection along the second dimension. The second dimension is the muons in each event, so we want the first, or the one at the 0 index. Then we do the same to get the second muon in each event, just changing the 0 index to 1:"
   ]
  },
  {
   "cell_type": "code",
   "execution_count": 191,
   "id": "8db0ba0f",
   "metadata": {},
   "outputs": [],
   "source": [
    "second_muon_p4 = two_muons_p4[:, 1]"
   ]
  },
  {
   "cell_type": "markdown",
   "id": "8ea7b24a",
   "metadata": {},
   "source": [
    "### $\\Delta R$"
   ]
  },
  {
   "cell_type": "markdown",
   "id": "7ee49c5b",
   "metadata": {},
   "source": [
    "Another useful feature of these four-vector arrays is being able to compute $\\Delta R$ ($= \\sqrt{{\\Delta \\eta}^2 + {\\Delta \\phi}^2}$):"
   ]
  },
  {
   "cell_type": "code",
   "execution_count": 192,
   "id": "0d20ff91",
   "metadata": {},
   "outputs": [
    {
     "data": {
      "text/plain": [
       "<Array [3.05, 2.92, 3.16, ... 4.47, 3.06, 2.88] type='48976 * float32'>"
      ]
     },
     "execution_count": 192,
     "metadata": {},
     "output_type": "execute_result"
    }
   ],
   "source": [
    "first_muon_p4.deltaR(second_muon_p4)"
   ]
  },
  {
   "cell_type": "code",
   "execution_count": 193,
   "id": "46e22e7f",
   "metadata": {},
   "outputs": [
    {
     "data": {
      "image/png": "[encoded data removed]",
      "text/plain": [
       "<Figure size 1200x800 with 1 Axes>"
      ]
     },
     "metadata": {
      "needs_background": "light"
     },
     "output_type": "display_data"
    }
   ],
   "source": [
    "plt.hist(first_muon_p4.deltaR(second_muon_p4), bins=100)\n",
    "plt.xlabel('$\\Delta R$ between muons')\n",
    "plt.ylabel('Number of two-muon events')\n",
    "plt.show()"
   ]
  },
  {
   "cell_type": "markdown",
   "id": "8d9d48bd",
   "metadata": {},
   "source": [
    "In principle, we could use this to clean up our invariant mass distribution, but we’ll skip that for simplicity."
   ]
  },
  {
   "cell_type": "markdown",
   "id": "ab838504",
   "metadata": {},
   "source": [
    "### Dimuon mass"
   ]
  },
  {
   "cell_type": "markdown",
   "id": "6abba670",
   "metadata": {},
   "source": [
    "Adding the four-vectors of the first muon and the second muon for all events is really as easy as:"
   ]
  },
  {
   "cell_type": "code",
   "execution_count": 194,
   "id": "7eb0c171",
   "metadata": {},
   "outputs": [
    {
     "data": {
      "text/plain": [
       "<MomentumArray4D [{rho: 8.79, phi: 1.83, ... tau: 16.5}] type='48976 * Momentum4...'>"
      ]
     },
     "execution_count": 194,
     "metadata": {},
     "output_type": "execute_result"
    }
   ],
   "source": [
    "sum_p4 = first_muon_p4 + second_muon_p4\n",
    "sum_p4"
   ]
  },
  {
   "cell_type": "markdown",
   "id": "2e7be208",
   "metadata": {},
   "source": [
    "This is a 1D array of the four-vector sum for each event.\n",
    "\n",
    "The last thing we need to do before we’re ready to plot the spectrum is to select only pairs with opposite charges:"
   ]
  },
  {
   "cell_type": "code",
   "execution_count": 195,
   "id": "df6dc54c",
   "metadata": {},
   "outputs": [],
   "source": [
    "two_muons_charges = branches['Muon_charge'][two_muons_mask]\n",
    "opposite_sign_muons_mask = two_muons_charges[:, 0] != two_muons_charges[:, 1]"
   ]
  },
  {
   "cell_type": "markdown",
   "id": "d379ac33",
   "metadata": {},
   "source": [
    "We apply this selection to the four-vector sums to get the dimuon four-vectors:"
   ]
  },
  {
   "cell_type": "code",
   "execution_count": 196,
   "id": "0798e078",
   "metadata": {},
   "outputs": [],
   "source": [
    "dimuon_p4 = sum_p4[opposite_sign_muons_mask]"
   ]
  },
  {
   "cell_type": "markdown",
   "id": "e54ea5ad",
   "metadata": {},
   "source": [
    "## Physics"
   ]
  },
  {
   "cell_type": "markdown",
   "id": "29a79fdf",
   "metadata": {},
   "source": [
    "Finally, we want to pick out the opposite-charge dimuon events and look at the distribution of invariant mass. This was our original physics goal in this toy analysis.\n",
    "\n",
    "We create the necessary event mask:"
   ]
  },
  {
   "cell_type": "code",
   "execution_count": 197,
   "id": "afc245a1",
   "metadata": {},
   "outputs": [],
   "source": [
    "two_muons_charges = branches['Muon_charge'][two_muons_mask]\n",
    "opposite_sign_muons_mask = two_muons_charges[:, 0] != two_muons_charges[:, 1]"
   ]
  },
  {
   "cell_type": "markdown",
   "id": "404a7130",
   "metadata": {},
   "source": [
    "Apply it to the four-vector sums:"
   ]
  },
  {
   "cell_type": "code",
   "execution_count": 198,
   "id": "74a93867",
   "metadata": {},
   "outputs": [],
   "source": [
    "dimuon_p4 = sum_p4[opposite_sign_muons_mask]"
   ]
  },
  {
   "cell_type": "markdown",
   "id": "6cc3eece",
   "metadata": {},
   "source": [
    "And plot:"
   ]
  },
  {
   "cell_type": "code",
   "execution_count": 199,
   "id": "def40429",
   "metadata": {},
   "outputs": [
    {
     "data": {
      "image/png": "[encoded data removed]",
      "text/plain": [
       "<Figure size 1200x800 with 1 Axes>"
      ]
     },
     "metadata": {
      "needs_background": "light"
     },
     "output_type": "display_data"
    }
   ],
   "source": [
    "plt.hist(dimuon_p4.mass, bins=np.logspace(np.log10(0.1), np.log10(1000), 200))\n",
    "plt.xlabel('Dimuon invariant mass [GeV]')\n",
    "plt.ylabel('Number of dimuon events')\n",
    "plt.xscale('log')\n",
    "plt.yscale('log')\n",
    "plt.show()"
   ]
  },
  {
   "cell_type": "markdown",
   "id": "192d0de4",
   "metadata": {},
   "source": [
    "How many dimuon events were selected in total?"
   ]
  },
  {
   "cell_type": "code",
   "execution_count": 200,
   "id": "afb2c852",
   "metadata": {},
   "outputs": [
    {
     "data": {
      "text/plain": [
       "37183"
      ]
     },
     "execution_count": 200,
     "metadata": {},
     "output_type": "execute_result"
    }
   ],
   "source": [
    "len(dimuon_p4)"
   ]
  },
  {
   "cell_type": "markdown",
   "id": "a3b50321",
   "metadata": {},
   "source": [
    "The plot should look like this, where the resonances have been labeled below:"
   ]
  },
  {
   "attachments": {
    "dimuon_invariant_mass_hist_2_labeled.png": {
     "image/png": "[encoded data removed]"
    }
   },
   "cell_type": "markdown",
   "id": "508af98e",
   "metadata": {},
   "source": [
    "![dimuon_invariant_mass_hist_2_labeled.png](attachment:dimuon_invariant_mass_hist_2_labeled.png)"
   ]
  },
  {
   "cell_type": "markdown",
   "id": "bed2cb92",
   "metadata": {},
   "source": [
    "## Multiple files and large files"
   ]
  },
  {
   "cell_type": "markdown",
   "id": "3d460be4",
   "metadata": {},
   "source": [
    "`uproot.open()` and `tree.arrays()` works fine for looking at one file at a time, but often trees are spread across several ROOT files. There are a few options to deal with this in Uproot."
   ]
  },
  {
   "cell_type": "markdown",
   "id": "995ae176",
   "metadata": {},
   "source": [
    "The simplest is to join all the arrays:"
   ]
  },
  {
   "cell_type": "markdown",
   "id": "e5c3fda6",
   "metadata": {},
   "source": [
    "`uproot.concatenate({'*.root': 'Events'})`"
   ]
  },
  {
   "cell_type": "markdown",
   "id": "af39f698",
   "metadata": {},
   "source": [
    "Another method is to iterate through the entries across all files:\n",
    "\n",
    "```python\n",
    "for events in uproot.iterate({'*.root': 'Events'}, step_size=100):\n",
    "    # do something with events\n",
    "```\n",
    "In each iteration of the loop, `events` is a 100-row chunk of the full tree. This avoids loading all entries at the same time. This is important if the files are too large to fit into memory."
   ]
  },
  {
   "cell_type": "markdown",
   "id": "d62e9d0a",
   "metadata": {},
   "source": [
    "There are also some other techniques to reduce the memory usage. If you are only interested in looking at a few events, you can do:"
   ]
  },
  {
   "cell_type": "code",
   "execution_count": 201,
   "id": "4c8c7d70",
   "metadata": {},
   "outputs": [
    {
     "data": {
      "text/plain": [
       "<Array [{nMuon: 2, Muon_pt: [10.8, ... 1, -1]}] type='100 * {\"nMuon\": uint32, \"M...'>"
      ]
     },
     "execution_count": 201,
     "metadata": {},
     "output_type": "execute_result"
    }
   ],
   "source": [
    "tree.arrays(entry_stop=100)"
   ]
  },
  {
   "cell_type": "markdown",
   "id": "4c5cdc55",
   "metadata": {},
   "source": [
    "If you only need a subset of the branches from the tree, you can load each branch into an array individually, like:"
   ]
  },
  {
   "cell_type": "code",
   "execution_count": 202,
   "id": "a0967969",
   "metadata": {},
   "outputs": [
    {
     "data": {
      "text/plain": [
       "<Array [2, 2, 1, 4, 4, 3, ... 0, 3, 2, 3, 2, 3] type='100000 * uint32'>"
      ]
     },
     "execution_count": 202,
     "metadata": {},
     "output_type": "execute_result"
    }
   ],
   "source": [
    "tree['nMuon'].array()"
   ]
  },
  {
   "cell_type": "markdown",
   "id": "41c0aa73",
   "metadata": {},
   "source": [
    "or you can provide a list of branch names to `arrays` to get only those branches:"
   ]
  },
  {
   "cell_type": "code",
   "execution_count": 203,
   "id": "33bd2e8a",
   "metadata": {},
   "outputs": [
    {
     "data": {
      "text/plain": [
       "<Array [{Muon_pt: [10.8, 15.7, ... 0.764]}] type='100000 * {\"Muon_pt\": var * flo...'>"
      ]
     },
     "execution_count": 203,
     "metadata": {},
     "output_type": "execute_result"
    }
   ],
   "source": [
    "tree.arrays(['Muon_pt', 'Muon_eta'])"
   ]
  },
  {
   "cell_type": "markdown",
   "id": "a13727e5",
   "metadata": {},
   "source": [
    "My preference is to use `uproot.lazy()`:"
   ]
  },
  {
   "cell_type": "code",
   "execution_count": 204,
   "id": "da0990e3",
   "metadata": {},
   "outputs": [],
   "source": [
    "lazy_branches = uproot.lazy({'root://eospublic.cern.ch//eos/opendata/cms/derived-data/AOD2NanoAODOutreachTool/Run2012BC_DoubleMuParked_Muons.root': 'Events'})"
   ]
  },
  {
   "cell_type": "markdown",
   "id": "ab5943dc",
   "metadata": {},
   "source": [
    "# Creating new objects and files"
   ]
  },
  {
   "cell_type": "markdown",
   "id": "4e899f18",
   "metadata": {},
   "source": [
    "So far, we've seen how Uproot, Awkward, and Vector can be used to read and manipulate data from already existing ROOT files. In this last section we'll look at how these packages can also be used to construct new objects and write data to files."
   ]
  },
  {
   "cell_type": "markdown",
   "id": "b254b22a",
   "metadata": {},
   "source": [
    "## Arrays"
   ]
  },
  {
   "cell_type": "markdown",
   "id": "3a7eff64",
   "metadata": {},
   "source": [
    "New `Arrays` can be easily be created like NumPy's `np.array`:"
   ]
  },
  {
   "cell_type": "code",
   "execution_count": 205,
   "id": "a713c64a",
   "metadata": {},
   "outputs": [
    {
     "data": {
      "text/plain": [
       "<Array [[1], [2, 3], [], [4]] type='4 * var * int64'>"
      ]
     },
     "execution_count": 205,
     "metadata": {},
     "output_type": "execute_result"
    }
   ],
   "source": [
    "ak.Array([[1],\n",
    "          [2, 3],\n",
    "          [],\n",
    "          [4]])"
   ]
  },
  {
   "cell_type": "markdown",
   "id": "9882fb3f",
   "metadata": {},
   "source": [
    "## Vectors"
   ]
  },
  {
   "cell_type": "markdown",
   "id": "6479e506",
   "metadata": {},
   "source": [
    "Individual vectors can be created with `vector.obj`:"
   ]
  },
  {
   "cell_type": "code",
   "execution_count": 206,
   "id": "21b813ee",
   "metadata": {},
   "outputs": [
    {
     "data": {
      "text/plain": [
       "vector.obj(pt=1, phi=1, eta=1, E=2)"
      ]
     },
     "execution_count": 206,
     "metadata": {},
     "output_type": "execute_result"
    }
   ],
   "source": [
    "vector.obj(pt=1, eta=1, phi=1, e=2)"
   ]
  },
  {
   "cell_type": "markdown",
   "id": "c3d55330",
   "metadata": {},
   "source": [
    "And we've already seen a way to make arrays of vectors:"
   ]
  },
  {
   "cell_type": "code",
   "execution_count": 207,
   "id": "8e929821",
   "metadata": {},
   "outputs": [
    {
     "data": {
      "text/plain": [
       "<MomentumArray4D [{rho: 1, phi: 1, eta: 1, t: 2}] type='1 * Momentum4D[\"rho\": in...'>"
      ]
     },
     "execution_count": 207,
     "metadata": {},
     "output_type": "execute_result"
    }
   ],
   "source": [
    "vector.zip({'pt': ak.Array([1]),\n",
    "            'eta': ak.Array([1]),\n",
    "            'phi': ak.Array([1]),\n",
    "            'e': ak.Array([2])})"
   ]
  },
  {
   "cell_type": "markdown",
   "id": "497e7e4b",
   "metadata": {},
   "source": [
    "## Files"
   ]
  },
  {
   "cell_type": "markdown",
   "id": "3b12812b",
   "metadata": {},
   "source": [
    "To write to a ROOT file, use `uproot.create()`, `uproot.recreate()`, or `uproot.update()`, which correspond to the same modes as in the `option` parameter of ROOT's `TFile.Open()`. For example, to create or replace `new_file.root`:"
   ]
  },
  {
   "cell_type": "code",
   "execution_count": 208,
   "id": "22b4629d",
   "metadata": {},
   "outputs": [
    {
     "data": {
      "text/plain": [
       "<WritableDirectory '/' at 0x7fa0976d3c10>"
      ]
     },
     "execution_count": 208,
     "metadata": {},
     "output_type": "execute_result"
    }
   ],
   "source": [
    "uproot.recreate('new_file.root')"
   ]
  },
  {
   "cell_type": "markdown",
   "id": "b5598c22",
   "metadata": {},
   "source": [
    "Writable file objects allow an assignment syntax for new elements, similar to a dictionary:\n",
    "```\n",
    "file['new_object_name'] = new_object\n",
    "```"
   ]
  },
  {
   "cell_type": "markdown",
   "id": "ac12fcac",
   "metadata": {},
   "source": [
    "## Trees"
   ]
  },
  {
   "cell_type": "markdown",
   "id": "bb02015b",
   "metadata": {},
   "source": [
    "Trees can be specified by an `Array` or a dictionary of arrays:"
   ]
  },
  {
   "cell_type": "code",
   "execution_count": 209,
   "id": "2f77a2fc",
   "metadata": {},
   "outputs": [],
   "source": [
    "with uproot.update('new_file.root') as new_file:\n",
    "    new_file['new_tree'] = {'branch1': ak.Array([1]), 'branch2': ak.Array([2])}"
   ]
  },
  {
   "cell_type": "markdown",
   "id": "3079922b",
   "metadata": {},
   "source": [
    "And just to make sure we can read this back:"
   ]
  },
  {
   "cell_type": "code",
   "execution_count": 210,
   "id": "f3e8d552",
   "metadata": {},
   "outputs": [
    {
     "data": {
      "text/plain": [
       "<Array [{branch1: 1, branch2: 2}] type='1 * {\"branch1\": int64, \"branch2\": int64}'>"
      ]
     },
     "execution_count": 210,
     "metadata": {},
     "output_type": "execute_result"
    }
   ],
   "source": [
    "uproot.open('new_file.root')['new_tree'].arrays()"
   ]
  },
  {
   "cell_type": "markdown",
   "id": "14654436",
   "metadata": {},
   "source": [
    "## Histograms"
   ]
  },
  {
   "cell_type": "markdown",
   "id": "25d6b02d",
   "metadata": {},
   "source": [
    "Histograms from NumPy (or Hist) can be interpreted into ROOT's `TH1`. Let's save our dimuon mass histogram to this new ROOT file:"
   ]
  },
  {
   "cell_type": "code",
   "execution_count": 211,
   "id": "248f6aef",
   "metadata": {},
   "outputs": [],
   "source": [
    "numpy_histogram = np.histogram(dimuon_p4.mass, bins=np.logspace(np.log10(0.1), np.log10(1000), 200))\n",
    "\n",
    "with uproot.update('new_file.root') as new_file:\n",
    "    new_file['new_histogram'] = numpy_histogram"
   ]
  },
  {
   "cell_type": "markdown",
   "id": "6a602cd4",
   "metadata": {},
   "source": [
    "And again make sure we can read it back correctly:"
   ]
  },
  {
   "cell_type": "code",
   "execution_count": 212,
   "id": "23197aaa",
   "metadata": {},
   "outputs": [
    {
     "data": {
      "image/png": "[encoded data removed]",
      "text/plain": [
       "<Figure size 1200x800 with 1 Axes>"
      ]
     },
     "metadata": {
      "needs_background": "light"
     },
     "output_type": "display_data"
    }
   ],
   "source": [
    "hist, bin_edges = uproot.open('new_file.root')['new_histogram'].to_numpy()\n",
    "plt.stairs(hist, bin_edges, fill=True)\n",
    "plt.xlabel('Dimuon invariant mass [GeV]')\n",
    "plt.ylabel('Number of dimuon events')\n",
    "plt.xscale('log')\n",
    "plt.yscale('log')\n",
    "plt.show()"
   ]
  },
  {
   "cell_type": "markdown",
   "id": "ff0b05da",
   "metadata": {},
   "source": [
    "Of course ROOT can read these newly created files as well, which makes it easy to drop in an Uproot-based replacement for any part of an analysis, even if later steps still expect ROOT files as input."
   ]
  },
  {
   "cell_type": "markdown",
   "id": "a9135208",
   "metadata": {},
   "source": [
    "# Links to more resources"
   ]
  },
  {
   "cell_type": "markdown",
   "id": "b361e138",
   "metadata": {},
   "source": [
    "- Uproot\n",
    "    - [GitHub repository](https://github.com/scikit-hep/uproot4)\n",
    "    - [Documentation](https://uproot.readthedocs.io/en/latest/)\n",
    "- Awkward\n",
    "    - [GitHub repository](https://github.com/scikit-hep/awkward-1.0)\n",
    "        - Contains several links to other presentations/tutorials\n",
    "    - [Documentation](https://awkward-array.org/quickstart.html)\n",
    "- Vector\n",
    "    - [GitHub repository](https://github.com/scikit-hep/vector)\n",
    "    - [Documentation](https://vector.readthedocs.io/en/latest/)"
   ]
  }
 ],
 "metadata": {
  "kernelspec": {
   "display_name": "Python 3 (ipykernel)",
   "language": "python",
   "name": "python3"
  },
  "language_info": {
   "codemirror_mode": {
    "name": "ipython",
    "version": 3
   },
   "file_extension": ".py",
   "mimetype": "text/x-python",
   "name": "python",
   "nbconvert_exporter": "python",
   "pygments_lexer": "ipython3",
   "version": "3.9.4"
  }
 },
 "nbformat": 4,
 "nbformat_minor": 5
}
