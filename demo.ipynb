{
 "cells": [
  {
   "cell_type": "markdown",
   "id": "0cd3b862",
   "metadata": {},
   "source": [
    "# Introduction"
   ]
  },
  {
   "cell_type": "markdown",
   "id": "d1ae27c6",
   "metadata": {},
   "source": [
    "This notebook is a quick starter guide on Uproot, Awkward Array, and Vector, which are all Python packages that are part of the Scikit-HEP project. We'll briefly go through parts of each and see how they work together.\n",
    "\n",
    "Most of this notebook is adapted from my [Uproot tutorial](https://hsf-training.github.io/hsf-training-uproot-webpage/index.html) aimed at beginners in data analysis in Python. Here, I'm assuming that the reader is already familiar with at least Python, NumPy, and Matplotlib, so I've compressed the tutorial and added a bit of more advanced material, but it still just scratches the surface of these packages. See the links at the end for more extensive resources."
   ]
  },
  {
   "cell_type": "markdown",
   "id": "859c2f74",
   "metadata": {},
   "source": [
    "## Motivation"
   ]
  },
  {
   "cell_type": "markdown",
   "id": "6108bd8a",
   "metadata": {},
   "source": [
    "### Python"
   ]
  },
  {
   "cell_type": "markdown",
   "id": "73fb6abc",
   "metadata": {},
   "source": [
    "For quite a while now, ROOT has been the main software used by particle physicists for data analysis. ROOT is written in C++, and at least until recently most analysis code has also been written in C++. Outside of HEP, Python is a more commonly used language for data analysis, which means that there are many popular and well-supported tools that can be utilized for common tasks. Python is also generally considered easier to learn than C++."
   ]
  },
  {
   "cell_type": "markdown",
   "id": "ee10522d",
   "metadata": {},
   "source": [
    "### Uproot"
   ]
  },
  {
   "cell_type": "markdown",
   "id": "3fbd4733",
   "metadata": {},
   "source": [
    "Uproot is a Python module that can read and write files in the ROOT format. It’s part of the Scikit-HEP project, a collection of Python tools for HEP data analysis. Uproot isn’t the only way to read/write ROOT files in Python; there are other packages that allow you to do this. However, there are some significant advantages of Uproot. We’ll go through a few here.\n",
    "\n",
    "The only software required by Uproot (other than Python itself, of course) is NumPy. NumPy is by far the most popular Python package for handling arrays of data. It’s included in the Anaconda distribution by default, and in general most people using Python for any kind of data analysis will probably already have it installed. Awkward Array and Vector are not required but highly recommended for use with Uproot. Uproot, Awkward Array, and Vector are all part of the Scikit-HEP project. All of the above are Python modules, which can be installed with nothing more than pip or conda.\n",
    "\n",
    "Most importantly, Uproot does not require any part of the ROOT software, which is quite large and can be non-trivial to install properly.\n",
    "\n",
    "Uproot was designed for efficient reading of files. It uses compiled functions with vector optimizations to perform very fast calculations on arrays.\n",
    "\n",
    "When you import a Python package that uses ROOT, there can be a delay of several seconds while all of the required libraries are loaded. This is required every time you restart the Python interpreter or run a script. By virtue of not using ROOT itself, Uproot doesn’t have this issue."
   ]
  },
  {
   "cell_type": "markdown",
   "id": "29cf139c",
   "metadata": {},
   "source": [
    "### Awkward"
   ]
  },
  {
   "cell_type": "markdown",
   "id": "c6e625d9",
   "metadata": {},
   "source": [
    "One issue with manipulating HEP data in Python is that it is often not rectangular. That is, the length of object collections is not constant. For example, different events will have different numbers of jets, and different jets will have different numbers of associated tracks. Such arrays are called jagged arrays. Packages like NumPy are only designed to work with rectangular arrays, where each dimension has a fixed length throughout the entire array.\n",
    "\n",
    "> Jagged vs. rectangular arrays\n",
    ">\n",
    "> The name “jagged array” comes from the idea that if you have a 2D array in which there’s a different number of entries in each row and you line rows up by their first element, then the right edge of the array will be “jagged” as opposed to straight:\n",
    ">\n",
    "> Rectangular array:\n",
    ">\n",
    "> ```\n",
    "> [[0, 1],\n",
    ">  [2, 3],\n",
    ">  [4, 5],\n",
    ">  [6, 7],\n",
    ">  [8, 9]]\n",
    "> ```\n",
    ">\n",
    "> Jagged array:\n",
    ">\n",
    "> ```\n",
    "> [[0, 1],\n",
    ">  [2, 3, 4],\n",
    ">  [5],\n",
    ">  [6, 7],\n",
    ">  [8, 9]]\n",
    "> ```\n",
    "\n",
    "Awkward Array is a package used to deal with jagged arrays so that they can be manipulated in ways almost identical to standard rectangular NumPy arrays. Other Python packages for reading ROOT files usually do not support jagged arrays, which means that you cannot do operations on multiple events at once if you have jagged data. But Uproot and Awkward Array can, and this is generally much faster than operating on one event at a time."
   ]
  },
  {
   "cell_type": "markdown",
   "id": "7390e702",
   "metadata": {},
   "source": [
    "### Vector"
   ]
  },
  {
   "cell_type": "markdown",
   "id": "6d02bbb8",
   "metadata": {},
   "source": [
    "Vector is a package that provides an interface for 2D, 3D, and (3+1)D vectors and can be used with NumPy and Awkward Array to perform operations on arrays of vectors. This includes calculations for quantities like invariant mass or $\\Delta R$."
   ]
  },
  {
   "cell_type": "markdown",
   "id": "e860edc0",
   "metadata": {},
   "source": [
    "## Goal"
   ]
  },
  {
   "cell_type": "markdown",
   "id": "eb848433",
   "metadata": {},
   "source": [
    "In order to learn how to use these packages, we’ll try to do a very short and simple analysis to look for resonances in a dimuon events. The example ROOT file is from CMS open data from proton-proton collisions in 2012. Our first goal is just to get to the data within Uproot, so we need to open the file and navigate to the muon information."
   ]
  },
  {
   "cell_type": "markdown",
   "id": "6e2ef82b",
   "metadata": {},
   "source": [
    "## Setup"
   ]
  },
  {
   "cell_type": "markdown",
   "id": "9a9ef836",
   "metadata": {},
   "source": [
    "### Installation"
   ]
  },
  {
   "cell_type": "markdown",
   "id": "c2d42d26",
   "metadata": {},
   "source": [
    "These packages can be installed in the usual way if they haven't been already:\n",
    "\n",
    "`pip install uproot awkward vector`\n",
    "\n",
    "They are also available via `conda install` on the `conda-forge` channel."
   ]
  },
  {
   "cell_type": "markdown",
   "id": "7858633a",
   "metadata": {},
   "source": [
    "### Usage"
   ]
  },
  {
   "cell_type": "markdown",
   "id": "72bd8e6f",
   "metadata": {},
   "source": [
    "We'll need NumPy and Matplotlib:"
   ]
  },
  {
   "cell_type": "code",
   "execution_count": 1,
   "id": "b3641647",
   "metadata": {},
   "outputs": [],
   "source": [
    "import numpy as np\n",
    "import matplotlib.pyplot as plt"
   ]
  },
  {
   "cell_type": "markdown",
   "id": "54d0fc0d",
   "metadata": {},
   "source": [
    "Uproot and Vector are normally imported by their name, and Awkward Array is usually imported as `ak` as an analogy to `numpy as np`:"
   ]
  },
  {
   "cell_type": "code",
   "execution_count": 2,
   "id": "9ad36375",
   "metadata": {},
   "outputs": [],
   "source": [
    "import uproot\n",
    "import awkward as ak\n",
    "import vector"
   ]
  },
  {
   "cell_type": "markdown",
   "id": "e33e8261",
   "metadata": {},
   "source": [
    "# Inspecting data"
   ]
  },
  {
   "cell_type": "markdown",
   "id": "ca7e13ec",
   "metadata": {},
   "source": [
    "## Files"
   ]
  },
  {
   "cell_type": "markdown",
   "id": "a91e2d5b",
   "metadata": {},
   "source": [
    "### Opening a file"
   ]
  },
  {
   "cell_type": "markdown",
   "id": "941809dd",
   "metadata": {},
   "source": [
    "Now open the ROOT file and assign it to a variable (which I’ve named file here):"
   ]
  },
  {
   "cell_type": "code",
   "execution_count": 3,
   "id": "de9fbbed",
   "metadata": {},
   "outputs": [],
   "source": [
    "file = uproot.open('open-data-example.root')"
   ]
  },
  {
   "cell_type": "markdown",
   "id": "16da2a3f",
   "metadata": {},
   "source": [
    "If you inspect file, you can see that it’s a `ReadOnlyDirectory` object:"
   ]
  },
  {
   "cell_type": "code",
   "execution_count": 4,
   "id": "2c00b9cf",
   "metadata": {},
   "outputs": [
    {
     "data": {
      "text/plain": [
       "<ReadOnlyDirectory '/' at 0x7fa0c2463250>"
      ]
     },
     "execution_count": 4,
     "metadata": {},
     "output_type": "execute_result"
    }
   ],
   "source": [
    "file"
   ]
  },
  {
   "cell_type": "markdown",
   "id": "73a88987",
   "metadata": {},
   "source": [
    "### File contents"
   ]
  },
  {
   "cell_type": "markdown",
   "id": "bc83d6e7",
   "metadata": {},
   "source": [
    "Just like any other kind of directory, you can list the contents (of the file). The name of each item in the file is called a key."
   ]
  },
  {
   "cell_type": "code",
   "execution_count": 5,
   "id": "07f7fea7",
   "metadata": {},
   "outputs": [
    {
     "data": {
      "text/plain": [
       "['Events;1']"
      ]
     },
     "execution_count": 5,
     "metadata": {},
     "output_type": "execute_result"
    }
   ],
   "source": [
    "file.keys()"
   ]
  },
  {
   "cell_type": "markdown",
   "id": "c553c12c",
   "metadata": {},
   "source": [
    "We can see that there is one key: “Events”. This doesn’t tell us what kind of object it refers to, though. ROOT files can contain many different types of objects, including subdirectories. The following function provides a way to inspect the types of each item:"
   ]
  },
  {
   "cell_type": "code",
   "execution_count": 6,
   "id": "8ac73f01",
   "metadata": {},
   "outputs": [
    {
     "data": {
      "text/plain": [
       "{'Events;1': 'TTree'}"
      ]
     },
     "execution_count": 6,
     "metadata": {},
     "output_type": "execute_result"
    }
   ],
   "source": [
    "file.classnames()"
   ]
  },
  {
   "cell_type": "markdown",
   "id": "38cfedd3",
   "metadata": {},
   "source": [
    "The output contains pairs of the form `name: type`. Therefore the key `Events` refers to a `TTree` object. This is where all the data in this file is stored. The `;1` refers to the cycle number."
   ]
  },
  {
   "cell_type": "markdown",
   "id": "ad37b228",
   "metadata": {},
   "source": [
    "### Accessing contents"
   ]
  },
  {
   "cell_type": "markdown",
   "id": "8067e373",
   "metadata": {},
   "source": [
    "Now we want to actually access the object inside the file. You can do this just as you would to get an item in an array:"
   ]
  },
  {
   "cell_type": "code",
   "execution_count": 7,
   "id": "c41896cb",
   "metadata": {},
   "outputs": [
    {
     "data": {
      "text/plain": [
       "<TTree 'Events' (6 branches) at 0x7fa0c23cad90>"
      ]
     },
     "execution_count": 7,
     "metadata": {},
     "output_type": "execute_result"
    }
   ],
   "source": [
    "file['Events']"
   ]
  },
  {
   "cell_type": "markdown",
   "id": "24319be9",
   "metadata": {},
   "source": [
    "This expression refers to the actual TTree object, which we will look at next."
   ]
  },
  {
   "cell_type": "markdown",
   "id": "1a784a96",
   "metadata": {},
   "source": [
    "## Trees"
   ]
  },
  {
   "cell_type": "markdown",
   "id": "2d4a7d27",
   "metadata": {},
   "source": [
    "Trees in ROOT are basically just tables of information. Trees are composed of branches, which are the columns of the table. The rows usually represent events (individual bunch crossings).\n",
    "\n",
    "First we assign the tree to a variable (named `tree` here):"
   ]
  },
  {
   "cell_type": "code",
   "execution_count": 8,
   "id": "d2cfae1d",
   "metadata": {},
   "outputs": [],
   "source": [
    "tree = file['Events']"
   ]
  },
  {
   "cell_type": "markdown",
   "id": "41d9aa13",
   "metadata": {},
   "source": [
    "In order to find out what information is in the tree, we need to know what the branches (columns) are. The term key is used (again) here to refer to the names of the branches."
   ]
  },
  {
   "cell_type": "code",
   "execution_count": 9,
   "id": "73f6217d",
   "metadata": {},
   "outputs": [
    {
     "data": {
      "text/plain": [
       "['nMuon', 'Muon_pt', 'Muon_eta', 'Muon_phi', 'Muon_mass', 'Muon_charge']"
      ]
     },
     "execution_count": 9,
     "metadata": {},
     "output_type": "execute_result"
    }
   ],
   "source": [
    "tree.keys()"
   ]
  },
  {
   "cell_type": "markdown",
   "id": "cdaf5e71",
   "metadata": {},
   "source": [
    "The above output is a list of the branch names. So we can see that for each event, we will have the number of muons in the event (nMuon) and the pT, eta, phi, mass, and charge of each muon."
   ]
  },
  {
   "cell_type": "code",
   "execution_count": 10,
   "id": "6e69ddfb",
   "metadata": {},
   "outputs": [
    {
     "name": "stdout",
     "output_type": "stream",
     "text": [
      "name                 | typename                 | interpretation                \n",
      "---------------------+--------------------------+-------------------------------\n",
      "nMuon                | uint32_t                 | AsDtype('>u4')\n",
      "Muon_pt              | float[]                  | AsJagged(AsDtype('>f4'))\n",
      "Muon_eta             | float[]                  | AsJagged(AsDtype('>f4'))\n",
      "Muon_phi             | float[]                  | AsJagged(AsDtype('>f4'))\n",
      "Muon_mass            | float[]                  | AsJagged(AsDtype('>f4'))\n",
      "Muon_charge          | int32_t[]                | AsJagged(AsDtype('>i4'))\n"
     ]
    }
   ],
   "source": [
    "tree.show()"
   ]
  },
  {
   "cell_type": "markdown",
   "id": "efb57aab",
   "metadata": {},
   "source": [
    "But how do we get the actual data from the table? There are several ways with Uproot, but the simplest is with the arrays() function:"
   ]
  },
  {
   "cell_type": "code",
   "execution_count": 11,
   "id": "92504b45",
   "metadata": {},
   "outputs": [
    {
     "data": {
      "text/plain": [
       "<Array [{nMuon: 2, Muon_pt: [10.8, ... -1, 1]}] type='100000 * {\"nMuon\": uint32,...'>"
      ]
     },
     "execution_count": 11,
     "metadata": {},
     "output_type": "execute_result"
    }
   ],
   "source": [
    "tree.arrays()"
   ]
  },
  {
   "cell_type": "markdown",
   "id": "3e7a69dc",
   "metadata": {},
   "source": [
    "You can see some numbers in there, which indeed are from the data in the tree."
   ]
  },
  {
   "cell_type": "markdown",
   "id": "e4c424e8",
   "metadata": {},
   "source": [
    "## Branches"
   ]
  },
  {
   "cell_type": "markdown",
   "id": "50a3b017",
   "metadata": {},
   "source": [
    "Now we assign this object (which contains both the names and contents of the branches) to another variable (branches):"
   ]
  },
  {
   "cell_type": "code",
   "execution_count": 12,
   "id": "87dcbf00",
   "metadata": {},
   "outputs": [],
   "source": [
    "branches = tree.arrays()"
   ]
  },
  {
   "cell_type": "markdown",
   "id": "4db08e52",
   "metadata": {},
   "source": [
    "Next let’s just look at each branch individually. You can access a single branch from branches in a similar way to getting an item from a ROOT file object (array-like notation):"
   ]
  },
  {
   "cell_type": "code",
   "execution_count": 13,
   "id": "e2d34f18",
   "metadata": {},
   "outputs": [
    {
     "data": {
      "text/plain": [
       "<Array [2, 2, 1, 4, 4, 3, ... 0, 3, 2, 3, 2, 3] type='100000 * uint32'>"
      ]
     },
     "execution_count": 13,
     "metadata": {},
     "output_type": "execute_result"
    }
   ],
   "source": [
    "branches['nMuon']"
   ]
  },
  {
   "cell_type": "markdown",
   "id": "ef3363e7",
   "metadata": {},
   "source": [
    "You can see the partial list of numbers in the output that represents the number of muons in each event. It’s abbreviated with an ellipsis (...) so that it doesn’t take up the whole page.\n",
    "\n",
    "These Array objects are a special type provided by the Awkward Array package. The type=100000 * uint32 means that there are 100,000 entries and that each entry is a 32-bit unsigned integer. Each entry corresponds to one event.\n",
    "\n",
    "Let’s look at another branch:"
   ]
  },
  {
   "cell_type": "code",
   "execution_count": 14,
   "id": "bea0af0f",
   "metadata": {},
   "outputs": [
    {
     "data": {
      "text/plain": [
       "<Array [[10.8, 15.7], ... 11.4, 3.08, 4.97]] type='100000 * var * float32'>"
      ]
     },
     "execution_count": 14,
     "metadata": {},
     "output_type": "execute_result"
    }
   ],
   "source": [
    "branches['Muon_pt']"
   ]
  },
  {
   "cell_type": "markdown",
   "id": "9b62eef3",
   "metadata": {},
   "source": [
    "This is a jagged array because the number of entries is different for different events (because each event can have a different number of muons). Note that there are square brackets [] surrounding the list of entries for each event. The type='100000 * var * float32' means that there are 100,000 rows, each containing a variable number of 32-bit floating point numbers. This is basically an array of arrays (or a 2D array).\n",
    "Events\n",
    "\n",
    "If we want to focus on a particular event, we can index it just like a normal array:"
   ]
  },
  {
   "cell_type": "code",
   "execution_count": 15,
   "id": "c50c67cd",
   "metadata": {},
   "outputs": [
    {
     "data": {
      "text/plain": [
       "<Array [10.8, 15.7] type='2 * float32'>"
      ]
     },
     "execution_count": 15,
     "metadata": {},
     "output_type": "execute_result"
    }
   ],
   "source": [
    "branches['Muon_pt'][0]"
   ]
  },
  {
   "cell_type": "markdown",
   "id": "e4ed1172",
   "metadata": {},
   "source": [
    "From the above output, the first event has two muons, and the two numbers in the list are the muons’ pT. It’s not specified anywhere in the file, but the units are GeV. Let’s look at the third event:"
   ]
  },
  {
   "cell_type": "code",
   "execution_count": 16,
   "id": "78d2f4ae",
   "metadata": {},
   "outputs": [
    {
     "data": {
      "text/plain": [
       "<Array [3.28] type='1 * float32'>"
      ]
     },
     "execution_count": 16,
     "metadata": {},
     "output_type": "execute_result"
    }
   ],
   "source": [
    "branches['Muon_pt'][2]"
   ]
  },
  {
   "cell_type": "markdown",
   "id": "deec9b4a",
   "metadata": {},
   "source": [
    "It only has one muon."
   ]
  },
  {
   "cell_type": "markdown",
   "id": "4691109e",
   "metadata": {},
   "source": [
    "What if we want to get all of the information about a single event? So far we’ve accessed data in branches by providing a branch name, but we can also just use an event index:"
   ]
  },
  {
   "cell_type": "code",
   "execution_count": 17,
   "id": "ad379f26",
   "metadata": {},
   "outputs": [
    {
     "data": {
      "text/plain": [
       "<Record ... 0.106], Muon_charge: [-1, -1]} type='{\"nMuon\": uint32, \"Muon_pt\": va...'>"
      ]
     },
     "execution_count": 17,
     "metadata": {},
     "output_type": "execute_result"
    }
   ],
   "source": [
    "branches[0]"
   ]
  },
  {
   "cell_type": "markdown",
   "id": "852e2009",
   "metadata": {},
   "source": [
    "This is a Record object, which is another special type provided by Awkward Array. It functions basically the same way as a standard Python dictionary (dict). Unfortunately, most of the interesting information is still hidden in the above output to save space. A little trick we can use to force printing all the data is adding .tolist():"
   ]
  },
  {
   "cell_type": "code",
   "execution_count": 18,
   "id": "05caa242",
   "metadata": {},
   "outputs": [
    {
     "data": {
      "text/plain": [
       "{'nMuon': 2,\n",
       " 'Muon_pt': [10.763696670532227, 15.736522674560547],\n",
       " 'Muon_eta': [1.0668272972106934, -0.563786506652832],\n",
       " 'Muon_phi': [-0.03427272289991379, 2.5426154136657715],\n",
       " 'Muon_mass': [0.10565836727619171, 0.10565836727619171],\n",
       " 'Muon_charge': [-1, -1]}"
      ]
     },
     "execution_count": 18,
     "metadata": {},
     "output_type": "execute_result"
    }
   ],
   "source": [
    "branches[0].tolist()"
   ]
  },
  {
   "cell_type": "markdown",
   "id": "e189601d",
   "metadata": {},
   "source": [
    "There we go. Now we can see the whole picture for an individual event.\n",
    "\n",
    "`.tolist()` is a NumPy function that has been extended to Awkward Array objects. As the name suggests, it converts NumPy arrays to Python lists. In the case of trees, which have named branches, it actually converts to a dictionary of lists. It can be very useful when you want to understand exactly what’s in an Array or Record. Be careful when using it, though–trying to print out an entire branch or tree could cause Python to crash if it’s large enough. Therefore it’s best to only use `tolist()` on one or a few events at a time to be safe."
   ]
  },
  {
   "cell_type": "markdown",
   "id": "3fcd48e3",
   "metadata": {},
   "source": [
    "If you only want to see a description of the structure of the array and types within it (not the data itself), you can use `.type`:"
   ]
  },
  {
   "cell_type": "code",
   "execution_count": 19,
   "id": "15960ef0",
   "metadata": {},
   "outputs": [
    {
     "data": {
      "text/plain": [
       "100000 * {\"nMuon\": uint32, \"Muon_pt\": var * float32, \"Muon_eta\": var * float32, \"Muon_phi\": var * float32, \"Muon_mass\": var * float32, \"Muon_charge\": var * int32}"
      ]
     },
     "execution_count": 19,
     "metadata": {},
     "output_type": "execute_result"
    }
   ],
   "source": [
    "branches.type"
   ]
  },
  {
   "cell_type": "markdown",
   "id": "898558a8",
   "metadata": {},
   "source": [
    "# Transforming data"
   ]
  },
  {
   "cell_type": "markdown",
   "id": "14f6bc4f",
   "metadata": {},
   "source": [
    "Uproot is designed for columnar analysis, which means performing operations on entire columns (branches) at a time, rather than operating on every event individually."
   ]
  },
  {
   "cell_type": "markdown",
   "id": "ca788da6",
   "metadata": {},
   "source": [
    "## Counting"
   ]
  },
  {
   "cell_type": "markdown",
   "id": "59906312",
   "metadata": {},
   "source": [
    "The simplest task we need for analysis is counting (i.e., cutflow). To count the total number of events, we can use the Python built-in function `len()` on any of the following:\n",
    "\n",
    "```python\n",
    "len(branches)\n",
    "len(branches['nMuon'])\n",
    "len(branches['Muon_pt']) # or any of the other branches...\n",
    "```\n",
    "\n",
    "which will output `100000`. So there are 100,000 events."
   ]
  },
  {
   "cell_type": "markdown",
   "id": "09bb4306",
   "metadata": {},
   "source": [
    "For counting the number of entries in each event for a branch, there's `ak.num`:"
   ]
  },
  {
   "cell_type": "code",
   "execution_count": 20,
   "id": "c6a52c53",
   "metadata": {},
   "outputs": [
    {
     "data": {
      "text/plain": [
       "<Array [2, 2, 1, 4, 4, 3, ... 0, 3, 2, 3, 2, 3] type='100000 * int64'>"
      ]
     },
     "execution_count": 20,
     "metadata": {},
     "output_type": "execute_result"
    }
   ],
   "source": [
    "ak.num(branches['Muon_pt'])"
   ]
  },
  {
   "cell_type": "markdown",
   "id": "f78de7bf",
   "metadata": {},
   "source": [
    "which in this case is equal to already existing `branches['nMuon']`."
   ]
  },
  {
   "cell_type": "markdown",
   "id": "a0afc626",
   "metadata": {},
   "source": [
    "## Selections"
   ]
  },
  {
   "cell_type": "markdown",
   "id": "a07a5d95",
   "metadata": {},
   "source": [
    "### Selections from 1D arrays"
   ]
  },
  {
   "cell_type": "markdown",
   "id": "0dff4214",
   "metadata": {},
   "source": [
    "To do more interesting counting or plotting, we want to be able to select only events or muons that pass some criteria. Just as you can compare two numbers, like `1 < 2` and get a `True` or `False` value, you can put arrays in comparisons as well. Let’s look at this case:"
   ]
  },
  {
   "cell_type": "code",
   "execution_count": 21,
   "id": "2a4385bc",
   "metadata": {},
   "outputs": [
    {
     "data": {
      "text/plain": [
       "<Array [False, False, True, ... False, False] type='100000 * bool'>"
      ]
     },
     "execution_count": 21,
     "metadata": {},
     "output_type": "execute_result"
    }
   ],
   "source": [
    "branches['nMuon'] == 1"
   ]
  },
  {
   "cell_type": "markdown",
   "id": "1468fc9d",
   "metadata": {},
   "source": [
    "This is checking for equality between an array and the number 1. Of course these are different types (array vs. scalar), so the Python objects are certainly not identical, but you can see the return value is not just False. What happens is that each element in the array is compared to the scalar value, and the return value is a new array (of the same shape) filled with all these comparison results. So we can interpret the output as the result of testing whether each event has exactly one muon or not. The first two events do not, the third does, and so on.\n",
    "\n",
    "This array of Boolean values is called a mask because we can use it to pick out only the elements in the array that satisfy some criteria (like having exactly one muon). This is very useful, and we will save it to a variable to save typing later:"
   ]
  },
  {
   "cell_type": "code",
   "execution_count": 22,
   "id": "37257be8",
   "metadata": {},
   "outputs": [],
   "source": [
    "single_muon_mask = branches['nMuon'] == 1"
   ]
  },
  {
   "cell_type": "markdown",
   "id": "d2539789",
   "metadata": {},
   "source": [
    "### Counting with selections"
   ]
  },
  {
   "cell_type": "markdown",
   "id": "af97af3f",
   "metadata": {},
   "source": [
    "Now let’s say we want to know how many of these single-muon events there are. Note that len() won’t work because the length of the array is still 100,000. That is, there’s a value for every event (even if that value is `False`). We need the number of `True`s in the array. There are multiple ways to do this, but my favorite is:"
   ]
  },
  {
   "cell_type": "code",
   "execution_count": 23,
   "id": "8a374edd",
   "metadata": {},
   "outputs": [
    {
     "data": {
      "text/plain": [
       "13447"
      ]
     },
     "execution_count": 23,
     "metadata": {},
     "output_type": "execute_result"
    }
   ],
   "source": [
    "np.sum(single_muon_mask)"
   ]
  },
  {
   "cell_type": "markdown",
   "id": "a29d57f2",
   "metadata": {},
   "source": [
    "`sum()` adds all the array values together. `True` is interpreted as `1` and `False` is interpreted as `0`, thus `sum()` is just the number of True entries. So there are 13,447 events with exactly one muon."
   ]
  },
  {
   "cell_type": "markdown",
   "id": "cf168c2b",
   "metadata": {},
   "source": [
    "Note that I've used a NumPy function here on an `ak.Array`. Most of the standard NumPy functions work fine on Awkward `Array`s, although there are also equivalent Awkward functions like `ak.sum`. Generally speaking, the default behavior between these NumPy and Awkward functions is the same, but the `ak` versions have optional parameters for funcationality that is specific to jagged arrays. Awkward also has functions that wouldn't make sense in NumPy, such as `ak.num`."
   ]
  },
  {
   "cell_type": "markdown",
   "id": "f33dbbd6",
   "metadata": {},
   "source": [
    "### Applying a mask to an array"
   ]
  },
  {
   "cell_type": "markdown",
   "id": "66f052d1",
   "metadata": {},
   "source": [
    "If we want to apply some selection to an array (i.e., cut out events or muons that don’t pass), we just act like the selection mask is an index. For example, if we want the pT of only those muons in events with exactly one muon (so they’re the only muon in that event):"
   ]
  },
  {
   "cell_type": "code",
   "execution_count": 24,
   "id": "d63aec73",
   "metadata": {},
   "outputs": [
    {
     "data": {
      "text/plain": [
       "<Array [[3.28], [3.84], ... [13.3], [9.48]] type='13447 * var * float32'>"
      ]
     },
     "execution_count": 24,
     "metadata": {},
     "output_type": "execute_result"
    }
   ],
   "source": [
    "branches['Muon_pt'][single_muon_mask]"
   ]
  },
  {
   "cell_type": "markdown",
   "id": "3a916413",
   "metadata": {},
   "source": [
    "We can check that we really are only looking at the events that pass the selection by looking the number of rows:"
   ]
  },
  {
   "cell_type": "code",
   "execution_count": 25,
   "id": "6112bf40",
   "metadata": {},
   "outputs": [
    {
     "data": {
      "text/plain": [
       "13447"
      ]
     },
     "execution_count": 25,
     "metadata": {},
     "output_type": "execute_result"
    }
   ],
   "source": [
    "len(branches['Muon_pt'][single_muon_mask])"
   ]
  },
  {
   "cell_type": "markdown",
   "id": "b12cb109",
   "metadata": {},
   "source": [
    "Yep, this matches the counting from single_muon_mask.sum() above.\n",
    "Plotting with selections\n",
    "\n",
    "We can also use masks to plot quantities after some selection. For example, let’s plot the muon pT for only the single-muon events:"
   ]
  },
  {
   "cell_type": "code",
   "execution_count": 26,
   "id": "77d8b343",
   "metadata": {},
   "outputs": [
    {
     "data": {
      "image/png": "[encoded data removed]",
      "text/plain": [
       "<Figure size 432x288 with 1 Axes>"
      ]
     },
     "metadata": {
      "needs_background": "light"
     },
     "output_type": "display_data"
    }
   ],
   "source": [
    "plt.hist(ak.flatten(branches['Muon_pt'][single_muon_mask]), bins=100, range=(0, 100))\n",
    "plt.xlabel('Muon $p_{\\mathrm{T}}$ [GeV]')\n",
    "plt.ylabel('Number of single muons / 1 GeV')\n",
    "plt.yscale('log')\n",
    "plt.show()"
   ]
  },
  {
   "cell_type": "markdown",
   "id": "034aacf0",
   "metadata": {},
   "source": [
    "If you’re looking carefully, you might notice that this plot is missing the hump around 45 GeV that was in the pT plot before (for all muons). We accidentally ran into a hint of an effect from real physics. Neat!\n",
    "Selections from a jagged array\n",
    "\n",
    "Let’s look at a comparison for a jagged array, using the absolute value of muon eta:"
   ]
  },
  {
   "cell_type": "code",
   "execution_count": 27,
   "id": "89d4f85d",
   "metadata": {},
   "outputs": [
    {
     "data": {
      "text/plain": [
       "<Array [[True, True], ... True, True, True]] type='100000 * var * bool'>"
      ]
     },
     "execution_count": 27,
     "metadata": {},
     "output_type": "execute_result"
    }
   ],
   "source": [
    "eta_mask = abs(branches['Muon_eta']) < 2\n",
    "eta_mask"
   ]
  },
  {
   "cell_type": "markdown",
   "id": "d77c97e4",
   "metadata": {},
   "source": [
    "Again, the mask array has the same dimensions as the original array. There’s one Boolean value for each muon, corresponding to whether its eta is less than 2 in absolute value.\n",
    "Counting\n",
    "\n",
    "We can do counting and plotting just as before:"
   ]
  },
  {
   "cell_type": "code",
   "execution_count": 28,
   "id": "5012ab97",
   "metadata": {},
   "outputs": [
    {
     "data": {
      "text/plain": [
       "204564"
      ]
     },
     "execution_count": 28,
     "metadata": {},
     "output_type": "execute_result"
    }
   ],
   "source": [
    "np.sum(eta_mask)"
   ]
  },
  {
   "cell_type": "markdown",
   "id": "b4a28e35",
   "metadata": {},
   "source": [
    "This is the number of muons that pass the eta cut."
   ]
  },
  {
   "cell_type": "markdown",
   "id": "d2b3bba9",
   "metadata": {},
   "source": [
    "### Plotting"
   ]
  },
  {
   "cell_type": "markdown",
   "id": "ca241636",
   "metadata": {},
   "source": [
    "Let’s plot both the original eta distribution and the one after the cut to verify its effect:"
   ]
  },
  {
   "cell_type": "code",
   "execution_count": 29,
   "id": "7c8baf6b",
   "metadata": {},
   "outputs": [
    {
     "data": {
      "image/png": "[encoded data removed]",
      "text/plain": [
       "<Figure size 432x288 with 1 Axes>"
      ]
     },
     "metadata": {
      "needs_background": "light"
     },
     "output_type": "display_data"
    },
    {
     "data": {
      "image/png": "[encoded data removed]",
      "text/plain": [
       "<Figure size 432x288 with 1 Axes>"
      ]
     },
     "metadata": {
      "needs_background": "light"
     },
     "output_type": "display_data"
    }
   ],
   "source": [
    "plt.hist(ak.flatten(branches['Muon_eta']), bins=50, range=(-2.5, 2.5))\n",
    "plt.title('No selection')\n",
    "plt.xlabel('Muon $\\eta$')\n",
    "plt.ylabel('Number of muons')\n",
    "plt.show()\n",
    "\n",
    "plt.hist(ak.flatten(branches['Muon_eta'][eta_mask]), bins=50, range=(-2.5, 2.5))\n",
    "plt.title('With $|\\eta| < 2$ selection')\n",
    "plt.xlabel('Muon $\\eta$')\n",
    "plt.ylabel('Number of muons')\n",
    "plt.show()"
   ]
  },
  {
   "cell_type": "markdown",
   "id": "8dceb7e2",
   "metadata": {},
   "source": [
    "You can see the second plot just has both ends past 2 cut off, demonstrating that we’ve cut those muons out.\n",
    "Operations on selections\n",
    "\n",
    "We can invert selections with ~ (the NOT operator):"
   ]
  },
  {
   "cell_type": "code",
   "execution_count": 30,
   "id": "f130ee55",
   "metadata": {},
   "outputs": [
    {
     "data": {
      "text/plain": [
       "<Array [True, True, False, ... True, True] type='100000 * bool'>"
      ]
     },
     "execution_count": 30,
     "metadata": {},
     "output_type": "execute_result"
    }
   ],
   "source": [
    "~single_muon_mask"
   ]
  },
  {
   "cell_type": "markdown",
   "id": "bcfba9cc",
   "metadata": {},
   "source": [
    "This new mask is False only for events with exactly one muon and True otherwise.\n",
    "\n",
    "We can get the intersection of selections with & (the AND operator):"
   ]
  },
  {
   "cell_type": "code",
   "execution_count": 31,
   "id": "08526c38",
   "metadata": {},
   "outputs": [
    {
     "data": {
      "text/plain": [
       "<Array [[False, False], ... False, False]] type='100000 * var * bool'>"
      ]
     },
     "execution_count": 31,
     "metadata": {},
     "output_type": "execute_result"
    }
   ],
   "source": [
    "single_muon_mask & eta_mask"
   ]
  },
  {
   "cell_type": "markdown",
   "id": "ea5632b9",
   "metadata": {},
   "source": [
    "This mask is True only for muons with no other muons in their event and abs(eta) < 2.\n",
    "\n",
    "Or we can get the union of selections with | (the OR operator):"
   ]
  },
  {
   "cell_type": "code",
   "execution_count": 32,
   "id": "bbe24b9c",
   "metadata": {},
   "outputs": [
    {
     "data": {
      "text/plain": [
       "<Array [[True, True], ... True, True, True]] type='100000 * var * bool'>"
      ]
     },
     "execution_count": 32,
     "metadata": {},
     "output_type": "execute_result"
    }
   ],
   "source": [
    "single_muon_mask | eta_mask"
   ]
  },
  {
   "cell_type": "markdown",
   "id": "cd93adb7",
   "metadata": {},
   "source": [
    "This mask is True for muons which are the only muon in their event or which have abs(eta) < 2."
   ]
  },
  {
   "cell_type": "markdown",
   "id": "87e4d7ff",
   "metadata": {},
   "source": [
    "### Comparing histograms"
   ]
  },
  {
   "cell_type": "markdown",
   "id": "f4ca58ef",
   "metadata": {},
   "source": [
    "Now we can use these operations to compare distributions for different selections. Let’s look at the pT of single-event muons split into two groups by whether or not abs(eta) < 2. All we have to do is provide a list of arrays as the first argument to hist rather than just one array. Note the square brackets around the two arrays:"
   ]
  },
  {
   "cell_type": "code",
   "execution_count": 33,
   "id": "753e4312",
   "metadata": {},
   "outputs": [
    {
     "data": {
      "image/png": "[encoded data removed]",
      "text/plain": [
       "<Figure size 432x288 with 1 Axes>"
      ]
     },
     "metadata": {
      "needs_background": "light"
     },
     "output_type": "display_data"
    }
   ],
   "source": [
    "plt.hist([ak.flatten(branches['Muon_pt'][single_muon_mask & eta_mask]),\n",
    "          ak.flatten(branches['Muon_pt'][single_muon_mask & ~eta_mask])],\n",
    "         bins=25, range=(0, 50))\n",
    "plt.xlabel('Muon $p_{\\mathrm{T}}$ [GeV]')\n",
    "plt.ylabel('Number of single muons / 2 GeV')\n",
    "plt.show()"
   ]
  },
  {
   "cell_type": "markdown",
   "id": "50e53fd7",
   "metadata": {},
   "source": [
    "Ah, but it doesn’t actually say which histogram is which. For that, we need to add labels and a legend:"
   ]
  },
  {
   "cell_type": "code",
   "execution_count": 34,
   "id": "c898a0ca",
   "metadata": {},
   "outputs": [
    {
     "data": {
      "image/png": "[encoded data removed]",
      "text/plain": [
       "<Figure size 432x288 with 1 Axes>"
      ]
     },
     "metadata": {
      "needs_background": "light"
     },
     "output_type": "display_data"
    }
   ],
   "source": [
    "plt.hist([ak.flatten(branches['Muon_pt'][single_muon_mask & eta_mask]),\n",
    "          ak.flatten(branches['Muon_pt'][single_muon_mask & ~eta_mask])],\n",
    "         label=['$|\\eta| < 2$', '$|\\eta| \\geq 2$'],\n",
    "         bins=25, range=(0, 50))\n",
    "plt.xlabel('Muon $p_{\\mathrm{T}}$ [GeV]')\n",
    "plt.ylabel('Number of single muons / 2 GeV')\n",
    "plt.legend()\n",
    "plt.show()"
   ]
  },
  {
   "cell_type": "markdown",
   "id": "fe218a0d",
   "metadata": {},
   "source": [
    "label is a list of strings passed to hist, corresponding to the arrays (in the same order), and we have to add plt.legend() in order to actually draw a legend with those labels.\n",
    "\n",
    "Another problem is that these histograms are on different scales because there are fewer large eta muons. Often we want to compare only the shapes of the distribution, so we normalize the integral of each to 1. We can achieve this by adding density=True to the hist() call:"
   ]
  },
  {
   "cell_type": "code",
   "execution_count": 35,
   "id": "70569ea6",
   "metadata": {},
   "outputs": [
    {
     "data": {
      "image/png": "[encoded data removed]",
      "text/plain": [
       "<Figure size 432x288 with 1 Axes>"
      ]
     },
     "metadata": {
      "needs_background": "light"
     },
     "output_type": "display_data"
    }
   ],
   "source": [
    "plt.hist([ak.flatten(branches['Muon_pt'][single_muon_mask & eta_mask]),\n",
    "          ak.flatten(branches['Muon_pt'][single_muon_mask & ~eta_mask])],\n",
    "         label=['$|\\eta| < 2$', '$|\\eta| \\geq 2$'],\n",
    "         bins=25, range=(0, 50), density=True)\n",
    "plt.title('Normalized')\n",
    "plt.xlabel('Muon $p_{\\mathrm{T}}$ [GeV]')\n",
    "plt.ylabel('Number of single muons / 2 GeV')\n",
    "plt.legend()\n",
    "plt.show()"
   ]
  },
  {
   "cell_type": "markdown",
   "id": "c9ca3c54",
   "metadata": {},
   "source": [
    "Now we can clearly see there’s a significantly higher fraction of muons with abs(eta) >= 2 at lower pT compared to muons with abs(eta) < 2. This makes geometric sense, since muons at higher abs(eta) are traveling in a direction less perpendicular to the beam.\n",
    "\n",
    "(This name of the density parameter refers to the idea of interpreting the histogram as a probability density function, which always has an integral of 1.)"
   ]
  },
  {
   "cell_type": "markdown",
   "id": "d62799f9",
   "metadata": {},
   "source": [
    "# Analyzing data"
   ]
  },
  {
   "cell_type": "markdown",
   "id": "fae2138a",
   "metadata": {},
   "source": [
    "Okay, we’re finally ready to look for resonances in dimuon events.\n",
    "\n",
    "We need a mask that selects events with exactly two muons:"
   ]
  },
  {
   "cell_type": "code",
   "execution_count": 36,
   "id": "3269f382",
   "metadata": {},
   "outputs": [],
   "source": [
    "two_muons_mask = branches['nMuon'] == 2"
   ]
  },
  {
   "cell_type": "markdown",
   "id": "50926f29",
   "metadata": {},
   "source": [
    "## Vectors"
   ]
  },
  {
   "cell_type": "markdown",
   "id": "31612676",
   "metadata": {},
   "source": [
    "Now we need to construct the four-momenta of each muon. Vector is a package that provides an interface to operate on 2D, 3D, and 4D vectors. We can get the four-momenta of all muons in the tree by using vector.zip and passing it the pT, eta, phi, and mass arrays:"
   ]
  },
  {
   "cell_type": "code",
   "execution_count": 37,
   "id": "0baa39fa",
   "metadata": {},
   "outputs": [],
   "source": [
    "import vector\n",
    "muon_p4 = vector.zip({'pt': branches['Muon_pt'], 'eta': branches['Muon_eta'], 'phi': branches['Muon_phi'], 'mass': branches['Muon_mass']})"
   ]
  },
  {
   "cell_type": "markdown",
   "id": "8d344dc2",
   "metadata": {},
   "source": [
    "We’ll go ahead and filter out events that don’t contain exactly two muons:"
   ]
  },
  {
   "cell_type": "code",
   "execution_count": 38,
   "id": "42204061",
   "metadata": {},
   "outputs": [],
   "source": [
    "two_muons_p4 = muon_p4[two_muons_mask]"
   ]
  },
  {
   "cell_type": "markdown",
   "id": "703c14c1",
   "metadata": {},
   "source": [
    "Then let’s take a look at it:"
   ]
  },
  {
   "cell_type": "code",
   "execution_count": 39,
   "id": "420e5840",
   "metadata": {},
   "outputs": [
    {
     "data": {
      "text/plain": [
       "<MomentumArray4D [[{rho: 10.8, ... tau: 0.106}]] type='48976 * var * Momentum4D[...'>"
      ]
     },
     "execution_count": 39,
     "metadata": {},
     "output_type": "execute_result"
    }
   ],
   "source": [
    "two_muons_p4"
   ]
  },
  {
   "cell_type": "markdown",
   "id": "8292e1c3",
   "metadata": {},
   "source": [
    "This is an array of 4D momenta. We can get the components back out with these properties:"
   ]
  },
  {
   "cell_type": "markdown",
   "id": "ed49a38d",
   "metadata": {},
   "source": [
    "```python\n",
    "two_muons_p4.pt\n",
    "two_muons_p4.eta\n",
    "two_muons_p4.phi\n",
    "two_muons_p4.E\n",
    "two_muons_p4.mass\n",
    "```"
   ]
  },
  {
   "cell_type": "markdown",
   "id": "970c2f7d",
   "metadata": {},
   "source": [
    "What we want is the invariant mass of the two muons in each of these events. To do that, we need the sum of their four-vectors. First, we pick out the first muon in each event with 2D slice:"
   ]
  },
  {
   "cell_type": "code",
   "execution_count": 40,
   "id": "89944da8",
   "metadata": {},
   "outputs": [],
   "source": [
    "first_muon_p4 = two_muons_p4[:, 0]"
   ]
  },
  {
   "cell_type": "markdown",
   "id": "01eb7eae",
   "metadata": {},
   "source": [
    "In the notation [:, 0], : means “include every row in the first dimension” (i.e., all events in the array). The comma separates the selection along the first dimension from the selection along the second dimension. The second dimension is the muons in each event, so we want the first, or the one at the 0 index. Then we do the same to get the second muon in each event, just changing the 0 index to 1:"
   ]
  },
  {
   "cell_type": "code",
   "execution_count": 41,
   "id": "aa3d9a03",
   "metadata": {},
   "outputs": [],
   "source": [
    "second_muon_p4 = two_muons_p4[:, 1]"
   ]
  },
  {
   "cell_type": "markdown",
   "id": "c969033f",
   "metadata": {},
   "source": [
    "    DeltaR\n",
    "\n",
    "    Another useful feature of these four-vector arrays is being able to compute deltaR (= sqrt(deltaEta^2 + deltaPhi^2)):\n",
    "\n",
    "    first_muon_p4.deltaR(second_muon_p4)\n",
    "\n",
    "    plt.hist(first_muon_p4.deltaR(second_muon_p4), bins=100)\n",
    "    plt.xlabel('$\\Delta R$ between muons')\n",
    "    plt.ylabel('Number of two-muon events')\n",
    "    plt.show()\n",
    "\n",
    "    dimuon_delta_r.png\n",
    "\n",
    "    In principle, we could use this to clean up our invariant mass distribution, but we’ll skip that for simplicity.\n",
    "\n",
    "Adding the four-vectors of the first muon and the second muon for all events is really as easy as:"
   ]
  },
  {
   "cell_type": "code",
   "execution_count": 42,
   "id": "eb9b2a38",
   "metadata": {},
   "outputs": [
    {
     "data": {
      "text/plain": [
       "<MomentumArray4D [{rho: 8.79, phi: 1.83, ... tau: 16.5}] type='48976 * Momentum4...'>"
      ]
     },
     "execution_count": 42,
     "metadata": {},
     "output_type": "execute_result"
    }
   ],
   "source": [
    "sum_p4 = first_muon_p4 + second_muon_p4\n",
    "sum_p4"
   ]
  },
  {
   "cell_type": "markdown",
   "id": "12a78eff",
   "metadata": {},
   "source": [
    "This is a 1D array of the four-vector sum for each event.\n",
    "\n",
    "The last thing we need to do before we’re ready to plot the spectrum is to select only pairs with opposite charges:"
   ]
  },
  {
   "cell_type": "code",
   "execution_count": 43,
   "id": "72bc3546",
   "metadata": {},
   "outputs": [],
   "source": [
    "two_muons_charges = branches['Muon_charge'][two_muons_mask]\n",
    "opposite_sign_muons_mask = two_muons_charges[:, 0] != two_muons_charges[:, 1]"
   ]
  },
  {
   "cell_type": "markdown",
   "id": "c2a88b6d",
   "metadata": {},
   "source": [
    "We apply this selection to the four-vector sums to get the dimuon four-vectors:"
   ]
  },
  {
   "cell_type": "code",
   "execution_count": 44,
   "id": "0c37b22d",
   "metadata": {},
   "outputs": [],
   "source": [
    "dimuon_p4 = sum_p4[opposite_sign_muons_mask]"
   ]
  },
  {
   "cell_type": "markdown",
   "id": "d597a93d",
   "metadata": {},
   "source": [
    "## Physics"
   ]
  },
  {
   "cell_type": "markdown",
   "id": "1188ac84",
   "metadata": {},
   "source": []
  },
  {
   "cell_type": "code",
   "execution_count": 45,
   "id": "68a737be",
   "metadata": {},
   "outputs": [],
   "source": [
    "two_muons_charges = branches['Muon_charge'][two_muons_mask]\n",
    "opposite_sign_muons_mask = two_muons_charges[:, 0] != two_muons_charges[:, 1]"
   ]
  },
  {
   "cell_type": "code",
   "execution_count": 46,
   "id": "3cd89e9d",
   "metadata": {},
   "outputs": [],
   "source": [
    "dimuon_p4 = sum_p4[opposite_sign_muons_mask]"
   ]
  },
  {
   "cell_type": "code",
   "execution_count": 47,
   "id": "11de51d0",
   "metadata": {},
   "outputs": [
    {
     "data": {
      "image/png": "[encoded data removed]",
      "text/plain": [
       "<Figure size 432x288 with 1 Axes>"
      ]
     },
     "metadata": {
      "needs_background": "light"
     },
     "output_type": "display_data"
    }
   ],
   "source": [
    "plt.hist(dimuon_p4.mass, bins=np.logspace(np.log10(0.1), np.log10(1000), 200))\n",
    "plt.xlabel('Dimuon invariant mass [GeV]')\n",
    "plt.ylabel('Number of dimuon events')\n",
    "plt.xscale('log')\n",
    "plt.yscale('log')\n",
    "plt.show()"
   ]
  },
  {
   "cell_type": "code",
   "execution_count": 48,
   "id": "7821d3e7",
   "metadata": {},
   "outputs": [
    {
     "data": {
      "text/plain": [
       "37183"
      ]
     },
     "execution_count": 48,
     "metadata": {},
     "output_type": "execute_result"
    }
   ],
   "source": [
    "len(dimuon_p4)"
   ]
  },
  {
   "cell_type": "markdown",
   "id": "425824f1",
   "metadata": {},
   "source": [
    "    Exercise\n",
    "\n",
    "    Plot a histogram of the dimuon invariant mass on a log-log plot. Try to find all resonances (there are at least 7 visible). How many dimuon events are there?\n",
    "\n",
    "        Solution\n",
    "\n",
    "        plt.hist(dimuon_p4.mass, bins=np.logspace(np.log10(0.1), np.log10(1000), 200))\n",
    "        plt.xlabel('Dimuon invariant mass [GeV]')\n",
    "        plt.ylabel('Number of dimuon events')\n",
    "        plt.xscale('log')\n",
    "        plt.yscale('log')\n",
    "        plt.show()\n",
    "\n",
    "        dimuon_invariant_mass_hist_1.png\n",
    "\n",
    "        Labeled resonances:\n",
    "\n",
    "        dimuon_invariant_mass_hist_2_labeled.png\n",
    "\n",
    "        len(dimuon_p4)\n",
    "\n",
    "        37183\n",
    "\n",
    "    Key Points\n",
    "\n",
    "        Vector has allows you to manipulate arrays of four-vectors.\n",
    "\n",
    "        Uproot can be used to do real physics analyses."
   ]
  },
  {
   "cell_type": "markdown",
   "id": "a0dd34a2",
   "metadata": {},
   "source": [
    "## Multiple files and large files"
   ]
  },
  {
   "cell_type": "markdown",
   "id": "c9692831",
   "metadata": {},
   "source": [
    "`uproot.open()` and `tree.arrays()` works fine for looking at one file at a time, but often trees are spread across several ROOT files. There are a few options to deal with this in Uproot."
   ]
  },
  {
   "cell_type": "markdown",
   "id": "b3b971d5",
   "metadata": {},
   "source": [
    "The simplest is to join all the arrays"
   ]
  },
  {
   "cell_type": "markdown",
   "id": "dfcbca23",
   "metadata": {},
   "source": [
    "`uproot.concatenate({'*.root': 'Events'})`"
   ]
  },
  {
   "cell_type": "markdown",
   "id": "824639e5",
   "metadata": {},
   "source": [
    "Another method is to iterate through the entries across all files:\n",
    "\n",
    "```python\n",
    "for events in uproot.iterate({'*.root': 'Events'}, step_size=100):\n",
    "    # do something with events\n",
    "```\n",
    "In each iteration of the loop, `events` is a 100-row chunk of the full tree. This avoids loading all entries at the same time. This is important if the files are too large to fit into memory."
   ]
  },
  {
   "cell_type": "markdown",
   "id": "f5e80fc1",
   "metadata": {},
   "source": [
    "There are also some other techniques to reduce the memory usage. If you are only interested in looking at a few events, you can do:"
   ]
  },
  {
   "cell_type": "code",
   "execution_count": 49,
   "id": "62977fb8",
   "metadata": {},
   "outputs": [
    {
     "data": {
      "text/plain": [
       "<Array [{nMuon: 2, Muon_pt: [10.8, ... 1, -1]}] type='100 * {\"nMuon\": uint32, \"M...'>"
      ]
     },
     "execution_count": 49,
     "metadata": {},
     "output_type": "execute_result"
    }
   ],
   "source": [
    "tree.arrays(entry_stop=100)"
   ]
  },
  {
   "cell_type": "markdown",
   "id": "aff09eeb",
   "metadata": {},
   "source": [
    "If you only need a subset of the branches from the tree, you can load each branch into an array individually, like:"
   ]
  },
  {
   "cell_type": "code",
   "execution_count": 50,
   "id": "82a79932",
   "metadata": {},
   "outputs": [
    {
     "data": {
      "text/plain": [
       "<Array [2, 2, 1, 4, 4, 3, ... 0, 3, 2, 3, 2, 3] type='100000 * uint32'>"
      ]
     },
     "execution_count": 50,
     "metadata": {},
     "output_type": "execute_result"
    }
   ],
   "source": [
    "tree['nMuon'].array()"
   ]
  },
  {
   "cell_type": "markdown",
   "id": "2707f819",
   "metadata": {},
   "source": [
    "or you can provide a list of branch names to `arrays` to get only those branches:"
   ]
  },
  {
   "cell_type": "code",
   "execution_count": 51,
   "id": "5e9c3aa9",
   "metadata": {},
   "outputs": [
    {
     "data": {
      "text/plain": [
       "<Array [{Muon_pt: [10.8, 15.7, ... 0.764]}] type='100000 * {\"Muon_pt\": var * flo...'>"
      ]
     },
     "execution_count": 51,
     "metadata": {},
     "output_type": "execute_result"
    }
   ],
   "source": [
    "tree.arrays(['Muon_pt', 'Muon_eta'])"
   ]
  },
  {
   "cell_type": "markdown",
   "id": "70b47b06",
   "metadata": {},
   "source": [
    "My preference is to use `uproot.lazy()`:"
   ]
  },
  {
   "cell_type": "code",
   "execution_count": 52,
   "id": "a18f5383",
   "metadata": {},
   "outputs": [],
   "source": [
    "lazy_branches = uproot.lazy({'root://eospublic.cern.ch//eos/opendata/cms/derived-data/AOD2NanoAODOutreachTool/Run2012BC_DoubleMuParked_Muons.root': 'Events'})"
   ]
  },
  {
   "cell_type": "markdown",
   "id": "7fa7f27b",
   "metadata": {},
   "source": [
    "# Creating new objects and files"
   ]
  },
  {
   "cell_type": "markdown",
   "id": "cee0633b",
   "metadata": {},
   "source": [
    "So far, we've seen how Uproot, Awkward, and Vector can be used to read and manipulate data from already existing ROOT files. In this section we'll look at how these packages can also be used to construct new objects and write data to files."
   ]
  },
  {
   "cell_type": "markdown",
   "id": "b9867931",
   "metadata": {},
   "source": [
    "## Arrays"
   ]
  },
  {
   "cell_type": "markdown",
   "id": "b124da54",
   "metadata": {},
   "source": [
    "New `Arrays` can be easily be created like NumPy's `np.array`"
   ]
  },
  {
   "cell_type": "code",
   "execution_count": 53,
   "id": "6012fe17",
   "metadata": {},
   "outputs": [
    {
     "data": {
      "text/plain": [
       "<Array [[1], [2, 3], [], [4]] type='4 * var * int64'>"
      ]
     },
     "execution_count": 53,
     "metadata": {},
     "output_type": "execute_result"
    }
   ],
   "source": [
    "ak.Array([[1],\n",
    "          [2, 3],\n",
    "          [],\n",
    "          [4]])"
   ]
  },
  {
   "cell_type": "markdown",
   "id": "984ab83e",
   "metadata": {},
   "source": [
    "## Vectors"
   ]
  },
  {
   "cell_type": "markdown",
   "id": "d3d3ed85",
   "metadata": {},
   "source": [
    "Individual vectors can be created with `vector.obj`:"
   ]
  },
  {
   "cell_type": "code",
   "execution_count": 54,
   "id": "2024c27f",
   "metadata": {},
   "outputs": [
    {
     "data": {
      "text/plain": [
       "vector.obj(pt=1, phi=1, eta=1, E=2)"
      ]
     },
     "execution_count": 54,
     "metadata": {},
     "output_type": "execute_result"
    }
   ],
   "source": [
    "vector.obj(pt=1, eta=1, phi=1, e=2)"
   ]
  },
  {
   "cell_type": "markdown",
   "id": "e1f1210e",
   "metadata": {},
   "source": [
    "And we've already seen how to make arrays of vectors:"
   ]
  },
  {
   "cell_type": "code",
   "execution_count": 55,
   "id": "a4812cd1",
   "metadata": {},
   "outputs": [
    {
     "data": {
      "text/plain": [
       "<MomentumArray4D [{rho: 1, phi: 1, eta: 1, t: 2}] type='1 * Momentum4D[\"rho\": in...'>"
      ]
     },
     "execution_count": 55,
     "metadata": {},
     "output_type": "execute_result"
    }
   ],
   "source": [
    "vector.zip({'pt': ak.Array([1]),\n",
    "            'eta': ak.Array([1]),\n",
    "            'phi': ak.Array([1]),\n",
    "            'e': ak.Array([2])})"
   ]
  },
  {
   "cell_type": "markdown",
   "id": "854d457b",
   "metadata": {},
   "source": [
    "## Files"
   ]
  },
  {
   "cell_type": "markdown",
   "id": "d2b06c25",
   "metadata": {},
   "source": [
    "To write to a ROOT file, use `uproot.create()`, `uproot.recreate()`, or `uproot.update()`, which correspond to the same modes as in the `option` parameter of ROOT's `TFile.Open()`. For example, to create or replace `new_file.root`:"
   ]
  },
  {
   "cell_type": "code",
   "execution_count": 56,
   "id": "80f109ef",
   "metadata": {},
   "outputs": [
    {
     "data": {
      "text/plain": [
       "<WritableDirectory '/' at 0x7fa0b406b2e0>"
      ]
     },
     "execution_count": 56,
     "metadata": {},
     "output_type": "execute_result"
    }
   ],
   "source": [
    "uproot.recreate('new_file.root')"
   ]
  },
  {
   "cell_type": "markdown",
   "id": "c24c805f",
   "metadata": {},
   "source": [
    "Writable file objects allow an assignment syntax for new elements, similar to a dictionary:\n",
    "```\n",
    "file['new_object_name'] = new_object\n",
    "```"
   ]
  },
  {
   "cell_type": "markdown",
   "id": "0eabc561",
   "metadata": {},
   "source": [
    "## Trees"
   ]
  },
  {
   "cell_type": "markdown",
   "id": "47e39c1f",
   "metadata": {},
   "source": [
    "Trees can be specified by an `Array` or a dictionary of arrays:"
   ]
  },
  {
   "cell_type": "code",
   "execution_count": 57,
   "id": "4d59b8f8",
   "metadata": {},
   "outputs": [],
   "source": [
    "with uproot.update('new_file.root') as new_file:\n",
    "    new_file['new_tree'] = {'branch1': ak.Array([1]), 'branch2': ak.Array([2])}"
   ]
  },
  {
   "cell_type": "code",
   "execution_count": 58,
   "id": "1b530eeb",
   "metadata": {},
   "outputs": [
    {
     "data": {
      "text/plain": [
       "<Array [{branch1: 1, branch2: 2}] type='1 * {\"branch1\": int64, \"branch2\": int64}'>"
      ]
     },
     "execution_count": 58,
     "metadata": {},
     "output_type": "execute_result"
    }
   ],
   "source": [
    "uproot.open('new_file.root')['new_tree'].arrays()"
   ]
  },
  {
   "cell_type": "markdown",
   "id": "b1b413aa",
   "metadata": {},
   "source": [
    "## Histograms"
   ]
  },
  {
   "cell_type": "markdown",
   "id": "bee91d16",
   "metadata": {},
   "source": [
    "Histograms from NumPy (or Hist) can be interpreted into ROOT's `TH1`:"
   ]
  },
  {
   "cell_type": "code",
   "execution_count": 59,
   "id": "b4009eef",
   "metadata": {},
   "outputs": [
    {
     "data": {
      "text/plain": [
       "(array([20, 22, 27, 21, 18, 17, 18, 26, 22, 22, 27, 19, 17, 19, 17, 20, 24,\n",
       "        21, 17, 18, 25, 15, 17, 17, 17, 18, 26, 19, 20, 12, 23, 14, 24, 12,\n",
       "        17, 23, 22, 21, 16, 19, 29, 20, 21, 28, 23, 13, 20, 21, 17, 19]),\n",
       " array([0.  , 0.02, 0.04, 0.06, 0.08, 0.1 , 0.12, 0.14, 0.16, 0.18, 0.2 ,\n",
       "        0.22, 0.24, 0.26, 0.28, 0.3 , 0.32, 0.34, 0.36, 0.38, 0.4 , 0.42,\n",
       "        0.44, 0.46, 0.48, 0.5 , 0.52, 0.54, 0.56, 0.58, 0.6 , 0.62, 0.64,\n",
       "        0.66, 0.68, 0.7 , 0.72, 0.74, 0.76, 0.78, 0.8 , 0.82, 0.84, 0.86,\n",
       "        0.88, 0.9 , 0.92, 0.94, 0.96, 0.98, 1.  ]))"
      ]
     },
     "execution_count": 59,
     "metadata": {},
     "output_type": "execute_result"
    }
   ],
   "source": [
    "array = np.random.random(1000)\n",
    "numpy_histogram = np.histogram(array, bins=50, range=(0, 1))\n",
    "numpy_histogram"
   ]
  },
  {
   "cell_type": "code",
   "execution_count": 60,
   "id": "2a08f005",
   "metadata": {},
   "outputs": [],
   "source": [
    "with uproot.update('new_file.root') as new_file:\n",
    "    new_file['new_histogram'] = numpy_histogram"
   ]
  },
  {
   "cell_type": "code",
   "execution_count": 61,
   "id": "4047e99e",
   "metadata": {},
   "outputs": [
    {
     "data": {
      "image/png": "[encoded data removed]",
      "text/plain": [
       "<Figure size 432x288 with 1 Axes>"
      ]
     },
     "metadata": {
      "needs_background": "light"
     },
     "output_type": "display_data"
    }
   ],
   "source": [
    "hist, bin_edges = uproot.open('new_file.root')['new_histogram'].to_numpy()\n",
    "plt.stairs(hist, bin_edges, fill=True)\n",
    "plt.show()"
   ]
  },
  {
   "cell_type": "markdown",
   "id": "1db765ae",
   "metadata": {},
   "source": [
    "# Wrap up"
   ]
  },
  {
   "cell_type": "markdown",
   "id": "4a9d1e3d",
   "metadata": {},
   "source": [
    "# Links to more resources"
   ]
  },
  {
   "cell_type": "markdown",
   "id": "18e163c2",
   "metadata": {},
   "source": [
    "- Uproot\n",
    "    - [GitHub repository](https://github.com/scikit-hep/uproot4)\n",
    "    - [Documentation](https://uproot.readthedocs.io/en/latest/)\n",
    "- Awkward\n",
    "    - [GitHub repository](https://github.com/scikit-hep/awkward-1.0)\n",
    "        - Contains several links to other presentations/tutorials\n",
    "    - [Documentation](https://awkward-array.org/quickstart.html)\n",
    "- Vector\n",
    "    - [GitHub repository](https://github.com/scikit-hep/vector)\n",
    "    - [Documentation](https://vector.readthedocs.io/en/latest/)"
   ]
  }
 ],
 "metadata": {
  "kernelspec": {
   "display_name": "Python 3 (ipykernel)",
   "language": "python",
   "name": "python3"
  },
  "language_info": {
   "codemirror_mode": {
    "name": "ipython",
    "version": 3
   },
   "file_extension": ".py",
   "mimetype": "text/x-python",
   "name": "python",
   "nbconvert_exporter": "python",
   "pygments_lexer": "ipython3",
   "version": "3.9.4"
  }
 },
 "nbformat": 4,
 "nbformat_minor": 5
}
